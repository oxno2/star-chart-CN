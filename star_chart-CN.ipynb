{
 "cells": [
  {
   "cell_type": "code",
   "execution_count": null,
   "metadata": {
    "ExecuteTime": {
     "end_time": "2019-08-12T21:00:37.423487Z",
     "start_time": "2019-08-12T21:00:37.421552Z"
    }
   },
   "outputs": [],
   "source": [
    "#!pip install skymapper\n",
    "#!pip install healpy\n",
    "#!pip install --pre astroquery\n",
    "#!pip install hanziconv\n",
    "#!pip install pandas"
   ]
  },
  {
   "cell_type": "code",
   "execution_count": 26,
   "metadata": {
    "ExecuteTime": {
     "end_time": "2019-08-12T21:09:20.173514Z",
     "start_time": "2019-08-12T21:09:20.127741Z"
    },
    "run_control": {
     "marked": true
    }
   },
   "outputs": [
    {
     "name": "stdout",
     "output_type": "stream",
     "text": [
      "Using matplotlib backend: Qt5Agg\n"
     ]
    }
   ],
   "source": [
    "from astropy import *\n",
    "from astroquery.vizier import Vizier\n",
    "from astropy.coordinates import Angle\n",
    "from astropy.table import Table,Column\n",
    "import numpy as np\n",
    "import matplotlib.pyplot as plt\n",
    "import astropy.units as u\n",
    "from matplotlib.pyplot import figure\n",
    "from astropy.wcs import WCS\n",
    "from astropy.io import fits\n",
    "import pandas\n",
    "import skymapper as skm\n",
    "from hanziconv import HanziConv\n",
    "%matplotlib auto"
   ]
  },
  {
   "cell_type": "code",
   "execution_count": 29,
   "metadata": {
    "ExecuteTime": {
     "end_time": "2019-08-12T21:10:38.917339Z",
     "start_time": "2019-08-12T21:10:38.912559Z"
    }
   },
   "outputs": [],
   "source": [
    "t_cn = pandas.read_fwf('consterllation_cn',widths=[4,30,10],header=None)"
   ]
  },
  {
   "cell_type": "code",
   "execution_count": 34,
   "metadata": {
    "ExecuteTime": {
     "end_time": "2019-08-12T21:13:27.869909Z",
     "start_time": "2019-08-12T21:13:27.845541Z"
    },
    "scrolled": false
   },
   "outputs": [
    {
     "name": "stdout",
     "output_type": "stream",
     "text": [
      "  仙女座      And\n",
      "  唧筒座      Ant\n",
      "  天燕座      Aps\n",
      "  天鹰座      Aql\n",
      "  宝瓶座      Aqr\n",
      "  天坛座      Ara\n",
      "  白羊座      Ari\n",
      "  御夫座      Aur\n",
      "  牧夫座      Boo\n",
      "  大犬座      CMa\n",
      "  小犬座      CMi\n",
      "  猎犬座      CVn\n",
      "  雕具座      Cae\n",
      "  鹿豹座      Cam\n",
      "  摩羯座      Cap\n",
      "  船底座      Car\n",
      "  仙后座      Cas\n",
      " 半人马座      Cen\n",
      "  仙王座      Cep\n",
      "  鲸鱼座      Cet\n",
      "  蝘蜓座      Cha\n",
      "  圆规座      Cir\n",
      "  巨蟹座      Cnc\n",
      "  天鸽座      Col\n",
      "  后发座      Com\n",
      "  南冕座      CrA\n",
      "  北冕座      CrB\n",
      "  巨爵座      Crt\n",
      " 南十字座      Cru\n",
      "  乌鸦座      Crv\n",
      "  天鹅座      Cyg\n",
      "  海豚座      Del\n",
      "  剑鱼座      Dor\n",
      "  天龙座      Dra\n",
      "  小马座      Equ\n",
      "  波江座      Eri\n",
      "  天炉座      For\n",
      "  双子座      Gem\n",
      "  天鹤座      Gru\n",
      "  武仙座      Her\n",
      "  时钟座      Hor\n",
      "  长蛇座      Hya\n",
      "  水蛇座      Hyi\n",
      " 印第安座      Ind\n",
      "  小狮座      LMi\n",
      "  蝎虎座      Lac\n",
      "  狮子座      Leo\n",
      "  天兔座      Lep\n",
      "  天秤座      Lib\n",
      "  豺狼座      Lup\n",
      "  天猫座      Lyn\n",
      "  天琴座      Lyr\n",
      "  山案座      Men\n",
      " 显微镜座      Mic\n",
      "  麒麟座      Mon\n",
      "  苍蝇座      Mus\n",
      "  矩尺座      Nor\n",
      "  南极座      Oct\n",
      "  蛇夫座      Oph\n",
      "  猎户座      Ori\n",
      "  孔雀座      Pav\n",
      "  飞马座      Peg\n",
      "  英仙座      Per\n",
      "  凤凰座      Phe\n",
      "  绘架座      Pic\n",
      "  南鱼座      PsA\n",
      "  双鱼座      Psc\n",
      "  船尾座      Pup\n",
      "  罗盘座      Pyx\n",
      "  网罟座      Ret\n",
      "  玉夫座      Scl\n",
      "  天蝎座      Sco\n",
      "  盾牌座      Sct\n",
      "  巨蛇座      Ser\n",
      " 六分仪座      Sex\n",
      "  天箭座      Sge\n",
      "  人马座      Sgr\n",
      "  金牛座      Tau\n",
      " 望远镜座      Tel\n",
      " 南三角座      TrA\n",
      "  三角座      Tri\n",
      "  杜鹃座      Tuc\n",
      "  大熊座      UMa\n",
      "  小熊座      UMi\n",
      "  船帆座      Vel\n",
      "  室女座      Vir\n",
      "  飞鱼座      Vol\n",
      "  狐狸座      Vul\n"
     ]
    }
   ],
   "source": [
    "for i in range(len(t_cn)):\n",
    "    print('%5s'%HanziConv.toSimplified(t_cn[2][i]),'    ',t_cn[0][i])"
   ]
  },
  {
   "cell_type": "code",
   "execution_count": 296,
   "metadata": {
    "ExecuteTime": {
     "end_time": "2019-08-12T22:54:42.916185Z",
     "start_time": "2019-08-12T22:54:42.908690Z"
    }
   },
   "outputs": [
    {
     "name": "stdout",
     "output_type": "stream",
     "text": [
      "中文名： 后发座 ，   英文名： Coma Berenices ，   缩写： Com\n"
     ]
    }
   ],
   "source": [
    "constname = 'Com'\n",
    "index = t_cn.index[t_cn[0]==constname]\n",
    "constfullname = t_cn[1][index[0]]\n",
    "constfullnameCN = HanziConv.toSimplified(t_cn[2][index[0]])\n",
    "print(\"中文名：\",constfullnameCN,'，   英文名：',constfullname,'，   缩写：',constname)"
   ]
  },
  {
   "cell_type": "code",
   "execution_count": 297,
   "metadata": {
    "ExecuteTime": {
     "end_time": "2019-08-12T22:54:44.516635Z",
     "start_time": "2019-08-12T22:54:43.628038Z"
    },
    "run_control": {
     "marked": true
    }
   },
   "outputs": [
    {
     "name": "stdout",
     "output_type": "stream",
     "text": [
      "{'V/50': 'Bright Star Catalogue, 5th Revised Ed. (Hoffleit+, 1991)'}\n"
     ]
    }
   ],
   "source": [
    "catalog_list = Vizier.find_catalogs('Bright Star Catalogue, 5th')\n",
    "print({k:v.description for k,v in catalog_list.items()})\n",
    "\n",
    "Vizier.ROW_LIMIT = -1\n",
    "catalogs = Vizier.get_catalogs(catalog_list.keys())\n",
    "\n",
    "t = catalogs[0]\n",
    "t_hyg = Table.read('hygdata_v3.txt',format='pandas.csv')\n",
    "t_lines = Table.read('asterisms.csv')\n",
    "t_hyg['ra']=t_hyg['ra']*15"
   ]
  },
  {
   "cell_type": "code",
   "execution_count": 298,
   "metadata": {
    "ExecuteTime": {
     "end_time": "2019-08-12T22:54:46.847163Z",
     "start_time": "2019-08-12T22:54:45.021874Z"
    },
    "run_control": {
     "marked": false
    }
   },
   "outputs": [
    {
     "name": "stdout",
     "output_type": "stream",
     "text": [
      "{'VII/118': 'NGC 2000.0 (Sky Publishing, ed. Sinnott 1988)', 'VII/155': 'Third Reference Cat. of Bright Galaxies (RC3) (de Vaucouleurs+ 1991)'}\n",
      "['Box', 'Box', 'Box', 'Box', 'M  98', 'M  99', 'M 100', 'M  85', 'M  88', 'M  91', 'The Mice', 'Black-eye galaxy', 'M  53']\n"
     ]
    }
   ],
   "source": [
    "catalog_list = Vizier.find_catalogs('The NGC 2000.0 Catalogue')\n",
    "print({k: v.description for k, v in catalog_list.items()})\n",
    "\n",
    "Vizier.ROW_LIMIT = -1\n",
    "catalogs = Vizier.get_catalogs(catalog_list.keys())\n",
    "\n",
    "t_NGC = catalogs[0]\n",
    "\n",
    "t_NGC_NAME = catalogs[1]\n",
    "\n",
    "t_NGC_const = t_NGC[t_NGC['Const'] == constname]\n",
    "\n",
    "ra_NGC = []\n",
    "dec_NGC = []\n",
    "name_NGC = []\n",
    "ra_Speical = []\n",
    "dec_Speical = []\n",
    "name_Speical = []\n",
    "for i in range(len(t_NGC_const)):\n",
    "    if t_NGC_const[i]['Name'] in t_NGC_NAME['Name']:\n",
    "        ra_Speical.append(\n",
    "            Angle(t_NGC_const[i]['RAB2000'], unit='hourangle').deg)\n",
    "        dec_Speical.append(Angle(t_NGC_const[i]['DEB2000'], unit=u.deg).deg)\n",
    "        name_Speical.append(t_NGC_NAME[t_NGC_NAME['Name'] == t_NGC_const[i]\n",
    "                                       ['Name']]['Object'][0])\n",
    "    else:\n",
    "        ra_NGC.append(Angle(t_NGC_const[i]['RAB2000'], unit='hourangle').deg)\n",
    "        dec_NGC.append(Angle(t_NGC_const[i]['DEB2000'], unit=u.deg).deg)\n",
    "        if t_NGC_const[i]['Name'][0] == 'I':\n",
    "            name_NGC.append('IC ' + t_NGC_const[i]['Name'][1::])\n",
    "        else:\n",
    "            name_NGC.append('NGC ' + t_NGC_const[i]['Name'])\n",
    "print(name_Speical)"
   ]
  },
  {
   "cell_type": "code",
   "execution_count": 299,
   "metadata": {
    "ExecuteTime": {
     "end_time": "2019-08-12T22:54:47.361912Z",
     "start_time": "2019-08-12T22:54:47.355796Z"
    },
    "run_control": {
     "marked": true
    }
   },
   "outputs": [
    {
     "name": "stdout",
     "output_type": "stream",
     "text": [
      "183.04999999999998 29.166666666666668 Box\n",
      "183.075 29.183333333333334 Box\n",
      "183.1 29.133333333333333 Box\n",
      "183.125 29.15 Box\n",
      "183.45 14.9 M  98\n",
      "M  98\n",
      "184.69999999999996 14.416666666666666 M  99\n",
      "M  99\n",
      "185.72499999999997 15.816666666666666 M 100\n",
      "M 100\n",
      "186.35 18.183333333333334 M  85\n",
      "M  85\n",
      "187.99999999999997 14.416666666666666 M  88\n",
      "M  88\n",
      "188.84999999999997 14.5 M  91\n",
      "M  91\n",
      "191.52499999999998 30.733333333333334 The Mice\n",
      "194.17499999999998 21.683333333333334 Black-eye galaxy\n",
      "198.22499999999997 18.166666666666668 M  53\n",
      "M  53\n"
     ]
    }
   ],
   "source": [
    "for i in enumerate(name_Speical):\n",
    "    print(ra_Speical[i[0]],dec_Speical[i[0]],name_Speical[i[0]])\n",
    "    if i[1][0]=='M' and i[1][1]==' ':\n",
    "        print(i[1])\n",
    "        str1 = ' '.join(i[1].split())\n",
    "        name_Speical[i[0]]=str1.split(' ')[0]+str1.split(' ')[1]"
   ]
  },
  {
   "cell_type": "code",
   "execution_count": 300,
   "metadata": {
    "ExecuteTime": {
     "end_time": "2019-08-12T22:54:51.080724Z",
     "start_time": "2019-08-12T22:54:47.877627Z"
    },
    "run_control": {
     "marked": true
    }
   },
   "outputs": [
    {
     "name": "stdout",
     "output_type": "stream",
     "text": [
      "[91, 94, 181, 1056, 1840, 2471, 2495, 3514, 3670, 6308, 6515, 7036, 7189, 8295]\n"
     ]
    }
   ],
   "source": [
    "rax = []\n",
    "dex = []\n",
    "delx = []\n",
    "for i in range(len(t)):\n",
    "    try:\n",
    "        rax.append(Angle(t[i]['RAJ2000'],unit='hourangle').deg)\n",
    "        dex.append(Angle(t[i]['DEJ2000'],unit=u.deg).deg)\n",
    "    except:\n",
    "        delx.append(i)\n",
    "\n",
    "print(delx)\n",
    "for x in delx[::-1]:\n",
    "    del(t[x])\n",
    "    \n",
    "t_ra = Column(rax,name='ra_deg')\n",
    "t_de = Column(dex,name='dec_deg')\n",
    "t.add_column(t_ra,index=5)\n",
    "t.add_column(t_de,index=6)"
   ]
  },
  {
   "cell_type": "code",
   "execution_count": 301,
   "metadata": {
    "ExecuteTime": {
     "end_time": "2019-08-12T22:54:51.842586Z",
     "start_time": "2019-08-12T22:54:51.580176Z"
    },
    "run_control": {
     "marked": true
    }
   },
   "outputs": [
    {
     "name": "stdout",
     "output_type": "stream",
     "text": [
      "40\n"
     ]
    }
   ],
   "source": [
    "const = []\n",
    "for i in range(len(t)):\n",
    "   if ' '+constname in t['Name'][i]: \n",
    "#    if constname in t['Name'][i]:\n",
    "        const.append(i)\n",
    "t_const = np.copy(t[const])\n",
    "\n",
    "color = []\n",
    "for i in enumerate(t_const['SpType']):\n",
    "    c =i[1].decode('UTF-8')[0]\n",
    "    if   c == 'O': color.append('blue') ,\n",
    "    elif c == 'B': color.append('deepskyblue'),\n",
    "    elif c == 'A': color.append('cyan'),\n",
    "    elif c == 'F': color.append('lemonchiffon'),\n",
    "    elif c == 'G': color.append('lightyellow'),\n",
    "    elif c == 'K': color.append('yellow'),\n",
    "    elif c == 'M': color.append('orange'),\n",
    "    else         : color.append('tomato'),\n",
    "print(len(t_const))"
   ]
  },
  {
   "cell_type": "code",
   "execution_count": 302,
   "metadata": {
    "ExecuteTime": {
     "end_time": "2019-08-12T22:54:55.539860Z",
     "start_time": "2019-08-12T22:54:52.395307Z"
    },
    "code_folding": [],
    "run_control": {
     "marked": false
    }
   },
   "outputs": [
    {
     "name": "stdout",
     "output_type": "stream",
     "text": [
      "345.4804166666666 197.9683333333333 189.51874999999995\n"
     ]
    }
   ],
   "source": [
    "ra  = t_const['ra_deg']\n",
    "dec = t_const['dec_deg']\n",
    "others = []\n",
    "\n",
    "ra_max = np.max(ra)\n",
    "ra_min = np.min(ra)\n",
    "ra_mid = (ra_max+ra_min)/2\n",
    "\n",
    "if ra_max-ra_min>200:\n",
    "    ra_min=np.max(ra[ra<100])\n",
    "    ra_max=np.min(ra[ra>100])\n",
    "    #print(ra_min,ra_max)\n",
    "    ra_min2 = ra_max\n",
    "    ra_max  = ra_min + 360\n",
    "    ra_min = ra_min2\n",
    "    ra_mid = (ra_max+ra_min)/2\n",
    "\n",
    "    if ra_mid>360:\n",
    "        ra_mid = ra_mid-360\n",
    "    for i in range(len(t_hyg)):\n",
    "        if (ra_min2<t_hyg['ra'][i]<=360) and \\\n",
    "        (np.min(dec)<t_hyg['dec'][i]<=np.max(dec)):\n",
    "            others.append(i)   \n",
    "        if (0<t_hyg['ra'][i]<=ra_max-360) and \\\n",
    "        (np.min(dec)<t_hyg['dec'][i]<=np.max(dec)):\n",
    "            others.append(i)  \n",
    "else:\n",
    "    for i in range(len(t_hyg)):\n",
    "        if (ra_min<t_hyg['ra'][i]<=ra_max) and \\\n",
    "        (np.min(dec)<t_hyg['dec'][i]<=np.max(dec)):\n",
    "            others.append(i)\n",
    "print(ra_min2,ra_max,ra_mid)\n",
    "\n",
    "ra_others=   t_hyg['ra'][others]\n",
    "dec_others = t_hyg['dec'][others]\n",
    "t_others = t_hyg[others]"
   ]
  },
  {
   "cell_type": "code",
   "execution_count": 303,
   "metadata": {
    "ExecuteTime": {
     "end_time": "2019-08-12T22:54:56.069255Z",
     "start_time": "2019-08-12T22:54:56.064417Z"
    },
    "run_control": {
     "marked": true
    }
   },
   "outputs": [],
   "source": [
    "t_line_const = t_lines[t_lines['constellation']==constname]\n",
    "ra_line = t_line_const['ra'][0].split('[')[1].split(']')[0].split(',')\n",
    "dec_line = t_line_const['dec'][0].split('[')[1].split(']')[0].split(',')\n",
    "npair = int(t_line_const['num_pairs'])\n",
    "plt_ra = [[float(ra_line[2*i])*15,\n",
    "                 float(ra_line[2*i+1])*15] for i in range(npair)]\n",
    "plt_dec = [[float(dec_line[2*i]),\n",
    "            float(dec_line[2*i+1])] for i in range(npair)]"
   ]
  },
  {
   "cell_type": "code",
   "execution_count": 304,
   "metadata": {
    "ExecuteTime": {
     "end_time": "2019-08-12T22:54:56.617798Z",
     "start_time": "2019-08-12T22:54:56.597043Z"
    }
   },
   "outputs": [
    {
     "name": "stdout",
     "output_type": "stream",
     "text": [
      "Coma Berenices   a :      alpha ----> 东上将 , 太微左垣五\n"
     ]
    }
   ],
   "source": [
    "\n",
    "t_enggreece = Table.read('eng_greece.txt',format='pandas.csv')\n",
    "t_starCN2 = Table.read('starnameCN.csv')\n",
    "t_starCN = Table.read('star_constCN.csv')\n",
    "\n",
    "t_starCN_const = t_starCN[t_starCN['col2']==constname]\n",
    "\n",
    "star_eng =t_starCN_const['col1']\n",
    "gre_name = []\n",
    "cn_name = []\n",
    "star_eng = np.unique(star_eng)\n",
    "\n",
    "ra_num=[]\n",
    "dec_num=[]\n",
    "name_num=[]\n",
    "\n",
    "for i in star_eng:\n",
    "    #print(i,t_starCN_const[t_starCN_const['col1']==i][0]['col3'])\n",
    "    try:\n",
    "        j =  t_const['Name']==str.encode(i.strip()+'    Tau')\n",
    "        j2 = np.where(j)[0][0]\n",
    "        ra_num.append(t[const]['ra_deg'][j2])\n",
    "        dec_num.append(t[const]['dec_deg'][j2])\n",
    "        name_num.append(t_starCN_const[t_starCN_const['col1']==i][0]['col3'])\n",
    "    except:\n",
    "        pass\n",
    "    try:\n",
    "        s = t_enggreece[t_enggreece['en']==i[0]]['engname']\n",
    "        cnname = t_starCN_const[t_starCN_const['col1']==i][0]['col3']\n",
    "        gre_name.append(s[0])\n",
    "        cn_name.append(cnname)\n",
    "        print(constfullname+'%4s' %i,':','%10s' %s[0],'---->',cnname)\n",
    "    except:\n",
    "        pass"
   ]
  },
  {
   "cell_type": "code",
   "execution_count": 305,
   "metadata": {
    "ExecuteTime": {
     "end_time": "2019-08-12T22:54:57.257854Z",
     "start_time": "2019-08-12T22:54:57.251809Z"
    },
    "code_folding": [
     0
    ],
    "run_control": {
     "marked": false
    }
   },
   "outputs": [],
   "source": [
    "greek_alphabet = {\n",
    "    u'\\u0391': 'Alpha',\n",
    "    u'\\u0392': 'Beta',\n",
    "    u'\\u0393': 'Gamma',\n",
    "    u'\\u0394': 'Delta',\n",
    "    u'\\u0395': 'Epsilon',\n",
    "    u'\\u0396': 'Zeta',\n",
    "    u'\\u0397': 'Eta',\n",
    "    u'\\u0398': 'Theta',\n",
    "    u'\\u0399': 'Iota',\n",
    "    u'\\u039A': 'Kappa',\n",
    "    u'\\u039B': 'Lamda',\n",
    "    u'\\u039C': 'Mu',\n",
    "    u'\\u039D': 'Nu',\n",
    "    u'\\u039E': 'Xi',\n",
    "    u'\\u039F': 'Omicron',\n",
    "    u'\\u03A0': 'Pi',\n",
    "    u'\\u03A1': 'Rho',\n",
    "    u'\\u03A3': 'Sigma',\n",
    "    u'\\u03A4': 'Tau',\n",
    "    u'\\u03A5': 'Upsilon',\n",
    "    u'\\u03A6': 'Phi',\n",
    "    u'\\u03A7': 'Chi',\n",
    "    u'\\u03A8': 'Psi',\n",
    "    u'\\u03A9': 'Omega',\n",
    "    u'\\u03B1': 'alpha',\n",
    "    u'\\u03B2': 'beta',\n",
    "    u'\\u03B3': 'gamma',\n",
    "    u'\\u03B4': 'delta',\n",
    "    u'\\u03B5': 'epsilon',\n",
    "    u'\\u03B6': 'zeta',\n",
    "    u'\\u03B7': 'eta',\n",
    "    u'\\u03B8': 'theta',\n",
    "    u'\\u03B9': 'iota',\n",
    "    u'\\u03BA': 'kappa',\n",
    "    u'\\u03BB': 'lamda',\n",
    "    u'\\u03BC': 'mu',\n",
    "    u'\\u03BD': 'nu',\n",
    "    u'\\u03BE': 'xi',\n",
    "    u'\\u03BF': 'omicron',\n",
    "    u'\\u03C0': 'pi',\n",
    "    u'\\u03C1': 'rho',\n",
    "    u'\\u03C3': 'sigma',\n",
    "    u'\\u03C4': 'tau',\n",
    "    u'\\u03C5': 'upsilon',\n",
    "    u'\\u03C6': 'phi',\n",
    "    u'\\u03C7': 'chi',\n",
    "    u'\\u03C8': 'psi',\n",
    "    u'\\u03C9': 'omega',\n",
    "}\n",
    "greece_reverse = dict(map(reversed, greek_alphabet.items()))\n",
    "\n",
    "greece_list = list(greek_alphabet.values())"
   ]
  },
  {
   "cell_type": "code",
   "execution_count": 306,
   "metadata": {
    "ExecuteTime": {
     "end_time": "2019-08-12T22:54:57.801186Z",
     "start_time": "2019-08-12T22:54:57.776939Z"
    }
   },
   "outputs": [
    {
     "name": "stdout",
     "output_type": "stream",
     "text": [
      "optimizing parameters of Albers to minimize stdDistortion\n",
      "best objective 0.003516 at Albers(189.39727351754212,22.03763888888889,15.932278650943395,28.967401016699476)\n",
      "189.39727351754212 189.51874999999995\n"
     ]
    }
   ],
   "source": [
    "crit = skm.stdDistortion\n",
    "proj = skm.Albers.optimize(ra,dec,crit=crit)\n",
    "\n",
    "print(proj.lon_0,ra_mid)\n",
    "proj.lon_0=ra_mid\n",
    "title_ra = proj.lon_0\n",
    "title_dec1 = (proj.lat_1+(proj.lat_2-proj.lat_1)*1.0)\n",
    "title_dec2 = (proj.lat_1+(proj.lat_2-proj.lat_1)*0.9)\n",
    "title_string1 =constfullnameCN\n",
    "title_string2 ='知乎@凌晨晓骥'"
   ]
  },
  {
   "cell_type": "code",
   "execution_count": 308,
   "metadata": {
    "ExecuteTime": {
     "end_time": "2019-08-12T23:01:01.200867Z",
     "start_time": "2019-08-12T23:01:00.300690Z"
    },
    "code_folding": [
     29
    ],
    "run_control": {
     "marked": false
    },
    "scrolled": false
   },
   "outputs": [
    {
     "name": "stderr",
     "output_type": "stream",
     "text": [
      "/home/jl/anaconda3/envs/astroconda/lib/python3.6/site-packages/skymapper/map.py:688: UserWarning: Tight layout not applied. The left and right margins cannot be made large enough to accommodate all axes decorations. \n",
      "  self.fig.tight_layout(pad=0.75)\n"
     ]
    },
    {
     "name": "stdout",
     "output_type": "stream",
     "text": [
      "0 Box\n",
      "1 Box\n",
      "2 Box\n",
      "3 Box\n",
      "4 M98\n",
      "5 M99\n",
      "6 M100\n",
      "7 M85\n",
      "8 M88\n",
      "9 M91\n",
      "10 The Mice\n",
      "11 Black-eye galaxy\n",
      "12 M53\n"
     ]
    },
    {
     "name": "stderr",
     "output_type": "stream",
     "text": [
      "/home/jl/anaconda3/envs/astroconda/lib/python3.6/site-packages/skymapper/map.py:810: UserWarning: Tight layout not applied. The left and right margins cannot be made large enough to accommodate all axes decorations. \n",
      "  self.fig.tight_layout(pad=0.75)\n"
     ]
    },
    {
     "data": {
      "text/plain": [
       "Text(-0.0, 0.09871638522306148, '知乎@凌晨晓骥')"
      ]
     },
     "execution_count": 308,
     "metadata": {},
     "output_type": "execute_result"
    }
   ],
   "source": [
    "plt.rcParams['font.sans-serif']=['SimHei'] #用来正常显示中文标签\n",
    "plt.rcParams['axes.unicode_minus']=False\n",
    "\n",
    "from itertools import groupby\n",
    "import difflib\n",
    "\n",
    "\n",
    "\n",
    "mapx = skm.Map(proj, facecolor='black')\n",
    "sep = 5\n",
    "mapx.grid(sep=sep, c='white', lw=0.5, alpha=0.3)\n",
    "mapx.scatter(ra_others, dec_others, s=(17-t_others['mag'])**5/8e5, c='white')\n",
    "mapx.scatter(ra,\n",
    "             dec,\n",
    "             s=(10 - t_const['Vmag'])**5 / 5e2,\n",
    "             c=color,\n",
    "             edgecolor=color,\n",
    "             facecolor='white')\n",
    "mapx.scatter(ra,\n",
    "             dec,\n",
    "             s=(10 - t_const['Vmag'])**5 / 6e2,\n",
    "             alpha=0.9,\n",
    "             c='white',\n",
    "             edgecolor=color,\n",
    "             facecolor='white')\n",
    "mapx.focus(ra, dec)\n",
    "\n",
    "dec_range = np.max(dec)-np.min(dec)\n",
    "\n",
    "for i in enumerate(t_const['Name']):\n",
    "    namex = i[1].decode('UTF-8').split(constname)[0]\n",
    "    ss = [''.join(g) for _, g in groupby(namex, str.isalpha)]\n",
    "    res = [i for i in ss if i.isalpha()]\n",
    "    #print(res)\n",
    "    if len(res):\n",
    "        namey = res[0].lower()\n",
    "        #print(namey)\n",
    "        diflib = difflib.get_close_matches(namey, greece_list)\n",
    "        for j in diflib:\n",
    "            if j[0:2]==namey[0:2]:\n",
    "                namez = j\n",
    "        difflib.get_close_matches(namey, greece_list)[0]\n",
    "        namezx = greece_reverse[namez]\n",
    "        #print(namex,namey,namez,namezx)\n",
    "        cn_add = ''\n",
    "        if len(ss) > 2:\n",
    "            if ss[2].strip() != '':\n",
    "                cn_add= ss[2].strip()\n",
    "                namezx = r'$' + namezx.strip() + '^{' + ss[2].strip() + '}$'\n",
    "        else:\n",
    "            namezx = r'$' +namezx.strip() + '$'\n",
    "        if namez in gre_name:\n",
    "            gre_index = gre_name.index(namez)\n",
    "            mapx.text(ra[i[0]],\n",
    "                  dec[i[0]] - dec_range/50,\n",
    "                  cn_name[gre_index]+cn_add,\n",
    "                  c='yellow',\n",
    "                  fontsize=10,\n",
    "                  ha='center',\n",
    "                  va='center')    \n",
    "        \n",
    "        mapx.text(ra[i[0]],\n",
    "                  dec[i[0]] + dec_range/50,\n",
    "                  namezx,\n",
    "                  c='lime',\n",
    "                  fontsize=15,\n",
    "                  ha='center',\n",
    "                  va='center')\n",
    "   \n",
    "for i in range(len(ra_num)):\n",
    "    mapx.text(ra_num[i],\n",
    "              dec_num[i] - dec_range/50,\n",
    "              name_num[i],\n",
    "              c='yellow',\n",
    "              fontsize=10,\n",
    "              ha='center',\n",
    "              va='center')\n",
    "for i in range(npair):\n",
    "    mapx.plot(np.asarray(plt_ra[i]),\n",
    "              np.asarray(plt_dec[i]),\n",
    "              color='white',\n",
    "              alpha=0.5,\n",
    "              lw=0.5)\n",
    "if len(ra_Speical):\n",
    "    mapx.scatter(np.asarray(ra_Speical),np.asarray(dec_Speical),\n",
    "                 marker='o',c='',edgecolor='cyan',s=40,lw=0.5)\n",
    "for i in range(len(ra_Speical)):\n",
    "    print(i,name_Speical[i])\n",
    "    mapx.text(ra_Speical[i],\n",
    "              dec_Speical[i] + dec_range/100.0,\n",
    "              name_Speical[i]\n",
    "              ,fontsize=10,c='cyan',ha='center',va='center')\n",
    "if len(ra_NGC):\n",
    "    mapx.scatter(np.asarray(ra_NGC),np.asarray(dec_NGC),\n",
    "                 marker='o',c='',edgecolor='magenta',s=5,lw=0.5,alpha=0.5)\n",
    "# for i in range(len(ra_NGC)):\n",
    "#     #print(i,name_NGC[i])\n",
    "#     mapx.text(ra_NGC[i],\n",
    "#               dec_NGC[i] + dec_range/100.0,\n",
    "#               name_NGC[i]\n",
    "#               ,fontsize=10,c='magenta',ha='center',va='center')\n",
    "        \n",
    "\n",
    "mapx.text(title_ra,title_dec1,title_string1,\n",
    "          c='cyan',fontsize=30,alpha = 0.5,ha='center',va='center')\n",
    "mapx.text(title_ra,title_dec2,title_string2,\n",
    "          c='cyan',fontsize=20,alpha = 0.5,ha='center',va='center')"
   ]
  },
  {
   "cell_type": "code",
   "execution_count": 226,
   "metadata": {
    "ExecuteTime": {
     "end_time": "2019-08-12T22:26:25.964680Z",
     "start_time": "2019-08-12T22:26:25.944773Z"
    }
   },
   "outputs": [
    {
     "ename": "AttributeError",
     "evalue": "'str' object has no attribute 'decode'",
     "output_type": "error",
     "traceback": [
      "\u001b[0;31m---------------------------------------------------------------------------\u001b[0m",
      "\u001b[0;31mAttributeError\u001b[0m                            Traceback (most recent call last)",
      "\u001b[0;32m<ipython-input-226-f4870e424e51>\u001b[0m in \u001b[0;36m<module>\u001b[0;34m\u001b[0m\n\u001b[0;32m----> 1\u001b[0;31m \u001b[0mname_Speical\u001b[0m\u001b[0;34m[\u001b[0m\u001b[0mi\u001b[0m\u001b[0;34m]\u001b[0m\u001b[0;34m.\u001b[0m\u001b[0mdecode\u001b[0m\u001b[0;34m(\u001b[0m\u001b[0;34m)\u001b[0m\u001b[0;34m\u001b[0m\u001b[0;34m\u001b[0m\u001b[0m\n\u001b[0m",
      "\u001b[0;31mAttributeError\u001b[0m: 'str' object has no attribute 'decode'"
     ]
    }
   ],
   "source": [
    "name_Speical[i].decode()"
   ]
  },
  {
   "cell_type": "code",
   "execution_count": 97,
   "metadata": {
    "ExecuteTime": {
     "end_time": "2019-08-12T21:23:23.098463Z",
     "start_time": "2019-08-12T21:23:23.096707Z"
    },
    "code_folding": [
     0
    ]
   },
   "outputs": [],
   "source": [
    "# mv /home/jl/Desktop/astrodict_160626ce.txt ./\n",
    "\n",
    "# s = pandas.read_table('astrodict_160626ce.txt',delimiter='\\t',header=None)\n",
    "\n",
    "# ra_CN = []\n",
    "# dec_CN = []\n",
    "# name_CN = []\n",
    "# for starname in t_others['proper']:\n",
    "#     if starname:\n",
    "#         print(starname)\n",
    "#         print(s[s[1]==starname][0])\n",
    "#         #print(difflib.get_close_matches(starname, s[1]))"
   ]
  },
  {
   "cell_type": "code",
   "execution_count": 98,
   "metadata": {
    "ExecuteTime": {
     "end_time": "2019-08-12T21:23:23.575296Z",
     "start_time": "2019-08-12T21:23:23.572466Z"
    },
    "code_folding": [
     0
    ],
    "run_control": {
     "marked": true
    }
   },
   "outputs": [],
   "source": [
    "# ra_CN = []\n",
    "# dec_CN = []\n",
    "# name_CN = []\n",
    "# for starname in t_others['proper']:   \n",
    "#     if starname:\n",
    "#         print(starname)\n",
    "#         try:\n",
    "#             namez = difflib.get_close_matches(starname, t_starCN['col0'])[0]\n",
    "#             if t_starCN[t_starCN['col0'] == namez+' *']:\n",
    "#                 nameCN = t_starCN[t_starCN['col0'] == namez+' *']['col3'][0]\n",
    "#             else:\n",
    "#                 nameCN = t_starCN[t_starCN['col0'] == namez]['col3'][0]\n",
    "#             ra_CN.append(t_others[t_others['proper']==starname]['ra'])\n",
    "#             dec_CN.append(t_others[t_others['proper']==starname]['dec'])\n",
    "#             name_CN.append(nameCN)\n",
    "            \n",
    "#         except:\n",
    "#             pass\n",
    "# print(name_CN)\n",
    "\n",
    "#    \n",
    "# for i in range(len(ra_CN)):\n",
    "#     print(ra_CN[i],dec_CN[i],name_CN[i])\n",
    "#     mapx.text(ra_CN[i][0],\n",
    "#               dec_CN[i][0] - dec_range/50,\n",
    "#               name_CN[i],\n",
    "#               c='fushsia',\n",
    "#               ha='center',\n"
   ]
  },
  {
   "cell_type": "code",
   "execution_count": null,
   "metadata": {},
   "outputs": [],
   "source": []
  },
  {
   "cell_type": "code",
   "execution_count": null,
   "metadata": {},
   "outputs": [],
   "source": []
  }
 ],
 "metadata": {
  "kernelspec": {
   "display_name": "Python 3",
   "language": "python",
   "name": "python3"
  },
  "language_info": {
   "codemirror_mode": {
    "name": "ipython",
    "version": 3
   },
   "file_extension": ".py",
   "mimetype": "text/x-python",
   "name": "python",
   "nbconvert_exporter": "python",
   "pygments_lexer": "ipython3",
   "version": "3.6.7"
  },
  "latex_envs": {
   "LaTeX_envs_menu_present": true,
   "autoclose": false,
   "autocomplete": true,
   "bibliofile": "biblio.bib",
   "cite_by": "apalike",
   "current_citInitial": 1,
   "eqLabelWithNumbers": true,
   "eqNumInitial": 1,
   "hotkeys": {
    "equation": "Ctrl-E",
    "itemize": "Ctrl-I"
   },
   "labels_anchors": false,
   "latex_user_defs": false,
   "report_style_numbering": false,
   "user_envs_cfg": false
  },
  "nbTranslate": {
   "displayLangs": [
    "*"
   ],
   "hotkey": "alt-t",
   "langInMainMenu": true,
   "sourceLang": "en",
   "targetLang": "fr",
   "useGoogleTranslate": true
  },
  "toc": {
   "base_numbering": 1,
   "nav_menu": {},
   "number_sections": true,
   "sideBar": true,
   "skip_h1_title": false,
   "title_cell": "Table of Contents",
   "title_sidebar": "Contents",
   "toc_cell": false,
   "toc_position": {},
   "toc_section_display": true,
   "toc_window_display": false
  },
  "varInspector": {
   "cols": {
    "lenName": 16,
    "lenType": 16,
    "lenVar": 40
   },
   "kernels_config": {
    "python": {
     "delete_cmd_postfix": "",
     "delete_cmd_prefix": "del ",
     "library": "var_list.py",
     "varRefreshCmd": "print(var_dic_list())"
    },
    "r": {
     "delete_cmd_postfix": ") ",
     "delete_cmd_prefix": "rm(",
     "library": "var_list.r",
     "varRefreshCmd": "cat(var_dic_list()) "
    }
   },
   "types_to_exclude": [
    "module",
    "function",
    "builtin_function_or_method",
    "instance",
    "_Feature"
   ],
   "window_display": false
  }
 },
 "nbformat": 4,
 "nbformat_minor": 2
}
