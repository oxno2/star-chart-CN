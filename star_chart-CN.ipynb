{
 "cells": [
  {
   "cell_type": "code",
   "execution_count": 1,
   "metadata": {
    "ExecuteTime": {
     "end_time": "2019-08-13T00:35:32.733636Z",
     "start_time": "2019-08-13T00:35:24.549176Z"
    }
   },
   "outputs": [
    {
     "name": "stdout",
     "output_type": "stream",
     "text": [
      "Requirement already satisfied: astropy in /home/jl/anaconda3/envs/astroconda/lib/python3.6/site-packages (3.2.1)\n",
      "Requirement already satisfied: numpy>=1.13 in /home/jl/anaconda3/envs/astroconda/lib/python3.6/site-packages (from astropy) (1.16.4)\n",
      "Requirement already satisfied: skymapper in /home/jl/anaconda3/envs/astroconda/lib/python3.6/site-packages (0.3.3)\n",
      "Requirement already satisfied: healpy in /home/jl/anaconda3/envs/astroconda/lib/python3.6/site-packages (1.12.9)\n",
      "Requirement already satisfied: numpy>=1.13 in /home/jl/anaconda3/envs/astroconda/lib/python3.6/site-packages (from healpy) (1.16.4)\n",
      "Requirement already satisfied: six in /home/jl/anaconda3/envs/astroconda/lib/python3.6/site-packages (from healpy) (1.12.0)\n",
      "Requirement already satisfied: matplotlib in /home/jl/anaconda3/envs/astroconda/lib/python3.6/site-packages (from healpy) (3.1.1)\n",
      "Requirement already satisfied: scipy in /home/jl/anaconda3/envs/astroconda/lib/python3.6/site-packages (from healpy) (1.3.0)\n",
      "Requirement already satisfied: astropy in /home/jl/anaconda3/envs/astroconda/lib/python3.6/site-packages (from healpy) (3.2.1)\n",
      "Requirement already satisfied: cycler>=0.10 in /home/jl/anaconda3/envs/astroconda/lib/python3.6/site-packages (from matplotlib->healpy) (0.10.0)\n",
      "Requirement already satisfied: kiwisolver>=1.0.1 in /home/jl/anaconda3/envs/astroconda/lib/python3.6/site-packages (from matplotlib->healpy) (1.1.0)\n",
      "Requirement already satisfied: python-dateutil>=2.1 in /home/jl/anaconda3/envs/astroconda/lib/python3.6/site-packages (from matplotlib->healpy) (2.8.0)\n",
      "Requirement already satisfied: pyparsing!=2.0.4,!=2.1.2,!=2.1.6,>=2.0.1 in /home/jl/anaconda3/envs/astroconda/lib/python3.6/site-packages (from matplotlib->healpy) (2.4.0)\n",
      "Requirement already satisfied: setuptools in /home/jl/anaconda3/envs/astroconda/lib/python3.6/site-packages (from kiwisolver>=1.0.1->matplotlib->healpy) (41.0.1)\n",
      "Requirement already satisfied: astroquery in /home/jl/anaconda3/envs/astroconda/lib/python3.6/site-packages (0.3.9)\n",
      "Requirement already satisfied: astropy>=1.0 in /home/jl/anaconda3/envs/astroconda/lib/python3.6/site-packages (from astroquery) (3.2.1)\n",
      "Requirement already satisfied: requests>=2.4.3 in /home/jl/anaconda3/envs/astroconda/lib/python3.6/site-packages (from astroquery) (2.22.0)\n",
      "Requirement already satisfied: keyring>=4.0 in /home/jl/anaconda3/envs/astroconda/lib/python3.6/site-packages (from astroquery) (19.0.2)\n",
      "Requirement already satisfied: beautifulsoup4>=4.3.2 in /home/jl/anaconda3/envs/astroconda/lib/python3.6/site-packages (from astroquery) (4.8.0)\n",
      "Requirement already satisfied: html5lib>=0.999 in /home/jl/anaconda3/envs/astroconda/lib/python3.6/site-packages (from astroquery) (1.0.1)\n",
      "Requirement already satisfied: numpy>=1.13 in /home/jl/anaconda3/envs/astroconda/lib/python3.6/site-packages (from astropy>=1.0->astroquery) (1.16.4)\n",
      "Requirement already satisfied: idna<2.9,>=2.5 in /home/jl/anaconda3/envs/astroconda/lib/python3.6/site-packages (from requests>=2.4.3->astroquery) (2.8)\n",
      "Requirement already satisfied: urllib3!=1.25.0,!=1.25.1,<1.26,>=1.21.1 in /home/jl/anaconda3/envs/astroconda/lib/python3.6/site-packages (from requests>=2.4.3->astroquery) (1.25.3)\n",
      "Requirement already satisfied: chardet<3.1.0,>=3.0.2 in /home/jl/anaconda3/envs/astroconda/lib/python3.6/site-packages (from requests>=2.4.3->astroquery) (3.0.4)\n",
      "Requirement already satisfied: certifi>=2017.4.17 in /home/jl/anaconda3/envs/astroconda/lib/python3.6/site-packages (from requests>=2.4.3->astroquery) (2019.6.16)\n",
      "Requirement already satisfied: secretstorage; sys_platform == \"linux\" in /home/jl/anaconda3/envs/astroconda/lib/python3.6/site-packages (from keyring>=4.0->astroquery) (3.1.1)\n",
      "Requirement already satisfied: entrypoints in /home/jl/anaconda3/envs/astroconda/lib/python3.6/site-packages (from keyring>=4.0->astroquery) (0.3)\n",
      "Requirement already satisfied: soupsieve>=1.2 in /home/jl/anaconda3/envs/astroconda/lib/python3.6/site-packages (from beautifulsoup4>=4.3.2->astroquery) (1.9.2)\n",
      "Requirement already satisfied: six>=1.9 in /home/jl/anaconda3/envs/astroconda/lib/python3.6/site-packages (from html5lib>=0.999->astroquery) (1.12.0)\n",
      "Requirement already satisfied: webencodings in /home/jl/anaconda3/envs/astroconda/lib/python3.6/site-packages (from html5lib>=0.999->astroquery) (0.5.1)\n",
      "Requirement already satisfied: cryptography in /home/jl/anaconda3/envs/astroconda/lib/python3.6/site-packages (from secretstorage; sys_platform == \"linux\"->keyring>=4.0->astroquery) (2.7)\n",
      "Requirement already satisfied: jeepney in /home/jl/anaconda3/envs/astroconda/lib/python3.6/site-packages (from secretstorage; sys_platform == \"linux\"->keyring>=4.0->astroquery) (0.4)\n",
      "Requirement already satisfied: asn1crypto>=0.21.0 in /home/jl/anaconda3/envs/astroconda/lib/python3.6/site-packages (from cryptography->secretstorage; sys_platform == \"linux\"->keyring>=4.0->astroquery) (0.24.0)\n",
      "Requirement already satisfied: cffi!=1.11.3,>=1.8 in /home/jl/anaconda3/envs/astroconda/lib/python3.6/site-packages (from cryptography->secretstorage; sys_platform == \"linux\"->keyring>=4.0->astroquery) (1.12.3)\n",
      "Requirement already satisfied: pycparser in /home/jl/anaconda3/envs/astroconda/lib/python3.6/site-packages (from cffi!=1.11.3,>=1.8->cryptography->secretstorage; sys_platform == \"linux\"->keyring>=4.0->astroquery) (2.19)\n",
      "Requirement already satisfied: hanziconv in /home/jl/anaconda3/envs/astroconda/lib/python3.6/site-packages (0.3.2)\n",
      "Requirement already satisfied: pandas in /home/jl/anaconda3/envs/astroconda/lib/python3.6/site-packages (0.25.0)\n",
      "Requirement already satisfied: python-dateutil>=2.6.1 in /home/jl/anaconda3/envs/astroconda/lib/python3.6/site-packages (from pandas) (2.8.0)\n",
      "Requirement already satisfied: numpy>=1.13.3 in /home/jl/anaconda3/envs/astroconda/lib/python3.6/site-packages (from pandas) (1.16.4)\n",
      "Requirement already satisfied: pytz>=2017.2 in /home/jl/anaconda3/envs/astroconda/lib/python3.6/site-packages (from pandas) (2019.1)\n",
      "Requirement already satisfied: six>=1.5 in /home/jl/anaconda3/envs/astroconda/lib/python3.6/site-packages (from python-dateutil>=2.6.1->pandas) (1.12.0)\n"
     ]
    }
   ],
   "source": [
    "#Below are requirement packages! You can install them in you terminal or insider jupyter!\n",
    "#必备 python 包，如果没有安装可以在命令行或者jupyter 内安装\n",
    "\n",
    "!pip install astropy\n",
    "!pip install skymapper\n",
    "!pip install healpy\n",
    "!pip install --pre astroquery\n",
    "!pip install hanziconv\n",
    "!pip install pandas"
   ]
  },
  {
   "cell_type": "code",
   "execution_count": 15,
   "metadata": {
    "ExecuteTime": {
     "end_time": "2019-08-13T00:37:00.211194Z",
     "start_time": "2019-08-13T00:37:00.192985Z"
    },
    "run_control": {
     "marked": true
    }
   },
   "outputs": [
    {
     "name": "stdout",
     "output_type": "stream",
     "text": [
      "Using matplotlib backend: Qt5Agg\n"
     ]
    }
   ],
   "source": [
    "# import python libararies  导入必备的软件包\n",
    "\n",
    "from astropy import *\n",
    "from astroquery.vizier import Vizier\n",
    "from astropy.coordinates import Angle\n",
    "from astropy.table import Table,Column\n",
    "import numpy as np\n",
    "import matplotlib.pyplot as plt\n",
    "import astropy.units as u\n",
    "from matplotlib.pyplot import figure\n",
    "from astropy.wcs import WCS\n",
    "from astropy.io import fits\n",
    "import pandas\n",
    "import skymapper as skm\n",
    "from hanziconv import HanziConv\n",
    "%matplotlib auto\n",
    "from itertools import groupby\n",
    "import difflib"
   ]
  },
  {
   "cell_type": "code",
   "execution_count": 3,
   "metadata": {
    "ExecuteTime": {
     "end_time": "2019-08-13T00:35:46.554479Z",
     "start_time": "2019-08-13T00:35:46.491691Z"
    }
   },
   "outputs": [
    {
     "name": "stdout",
     "output_type": "stream",
     "text": [
      "  仙女座      And\n",
      "  唧筒座      Ant\n",
      "  天燕座      Aps\n",
      "  天鹰座      Aql\n",
      "  宝瓶座      Aqr\n",
      "  天坛座      Ara\n",
      "  白羊座      Ari\n",
      "  御夫座      Aur\n",
      "  牧夫座      Boo\n",
      "  大犬座      CMa\n",
      "  小犬座      CMi\n",
      "  猎犬座      CVn\n",
      "  雕具座      Cae\n",
      "  鹿豹座      Cam\n",
      "  摩羯座      Cap\n",
      "  船底座      Car\n",
      "  仙后座      Cas\n",
      " 半人马座      Cen\n",
      "  仙王座      Cep\n",
      "  鲸鱼座      Cet\n",
      "  蝘蜓座      Cha\n",
      "  圆规座      Cir\n",
      "  巨蟹座      Cnc\n",
      "  天鸽座      Col\n",
      "  后发座      Com\n",
      "  南冕座      CrA\n",
      "  北冕座      CrB\n",
      "  巨爵座      Crt\n",
      " 南十字座      Cru\n",
      "  乌鸦座      Crv\n",
      "  天鹅座      Cyg\n",
      "  海豚座      Del\n",
      "  剑鱼座      Dor\n",
      "  天龙座      Dra\n",
      "  小马座      Equ\n",
      "  波江座      Eri\n",
      "  天炉座      For\n",
      "  双子座      Gem\n",
      "  天鹤座      Gru\n",
      "  武仙座      Her\n",
      "  时钟座      Hor\n",
      "  长蛇座      Hya\n",
      "  水蛇座      Hyi\n",
      " 印第安座      Ind\n",
      "  小狮座      LMi\n",
      "  蝎虎座      Lac\n",
      "  狮子座      Leo\n",
      "  天兔座      Lep\n",
      "  天秤座      Lib\n",
      "  豺狼座      Lup\n",
      "  天猫座      Lyn\n",
      "  天琴座      Lyr\n",
      "  山案座      Men\n",
      " 显微镜座      Mic\n",
      "  麒麟座      Mon\n",
      "  苍蝇座      Mus\n",
      "  矩尺座      Nor\n",
      "  南极座      Oct\n",
      "  蛇夫座      Oph\n",
      "  猎户座      Ori\n",
      "  孔雀座      Pav\n",
      "  飞马座      Peg\n",
      "  英仙座      Per\n",
      "  凤凰座      Phe\n",
      "  绘架座      Pic\n",
      "  南鱼座      PsA\n",
      "  双鱼座      Psc\n",
      "  船尾座      Pup\n",
      "  罗盘座      Pyx\n",
      "  网罟座      Ret\n",
      "  玉夫座      Scl\n",
      "  天蝎座      Sco\n",
      "  盾牌座      Sct\n",
      "  巨蛇座      Ser\n",
      " 六分仪座      Sex\n",
      "  天箭座      Sge\n",
      "  人马座      Sgr\n",
      "  金牛座      Tau\n",
      " 望远镜座      Tel\n",
      " 南三角座      TrA\n",
      "  三角座      Tri\n",
      "  杜鹃座      Tuc\n",
      "  大熊座      UMa\n",
      "  小熊座      UMi\n",
      "  船帆座      Vel\n",
      "  室女座      Vir\n",
      "  飞鱼座      Vol\n",
      "  狐狸座      Vul\n"
     ]
    }
   ],
   "source": [
    "# Read and print consterllations in Chinese and English\n",
    "# 读取并打印星座中文名和缩写\n",
    "t_cn = pandas.read_fwf('consterllation_cn',widths=[4,30,10],header=None)\n",
    "\n",
    "for i in range(len(t_cn)):\n",
    "    print('%5s'%HanziConv.toSimplified(t_cn[2][i]),'    ',t_cn[0][i])"
   ]
  },
  {
   "cell_type": "code",
   "execution_count": 18,
   "metadata": {
    "ExecuteTime": {
     "end_time": "2019-08-13T00:37:36.957617Z",
     "start_time": "2019-08-13T00:37:36.953029Z"
    }
   },
   "outputs": [
    {
     "name": "stdout",
     "output_type": "stream",
     "text": [
      "中文名： 宝瓶座 ，   英文名： Aquarius ，   缩写： Aqr\n"
     ]
    }
   ],
   "source": [
    "#  Manually input consterllation name here. 在此处输入星座缩写\n",
    "constname = 'Aqr'\n",
    "constnameX = constname\n",
    "if constname == 'Tau':\n",
    "    constnameX =' Tau'\n",
    "\n",
    "index = t_cn.index[t_cn[0]==constname]\n",
    "constfullname = t_cn[1][index[0]]\n",
    "constfullnameCN = HanziConv.toSimplified(t_cn[2][index[0]])\n",
    "print(\"中文名：\",constfullnameCN,'，   英文名：',constfullname,'，   缩写：',constname)"
   ]
  },
  {
   "cell_type": "code",
   "execution_count": 19,
   "metadata": {
    "ExecuteTime": {
     "end_time": "2019-08-13T00:37:44.086459Z",
     "start_time": "2019-08-13T00:37:38.337849Z"
    },
    "run_control": {
     "marked": true
    }
   },
   "outputs": [
    {
     "name": "stdout",
     "output_type": "stream",
     "text": [
      "{'V/50': 'Bright Star Catalogue, 5th Revised Ed. (Hoffleit+, 1991)'}\n",
      "{'VII/118': 'NGC 2000.0 (Sky Publishing, ed. Sinnott 1988)', 'VII/155': 'Third Reference Cat. of Bright Galaxies (RC3) (de Vaucouleurs+ 1991)'}\n",
      "['M72', 'M73', 'Saturn nebula', \"Baxendell's unphotographable nebula\", 'M2', 'Helix nebula']\n",
      "[91, 94, 181, 1056, 1840, 2471, 2495, 3514, 3670, 6308, 6515, 7036, 7189, 8295]\n"
     ]
    }
   ],
   "source": [
    "# Load star charts and some pre-process 读取星表并预处理\n",
    "\n",
    "catalog_list = Vizier.find_catalogs('Bright Star Catalogue, 5th')\n",
    "print({k:v.description for k,v in catalog_list.items()})\n",
    "\n",
    "Vizier.ROW_LIMIT = -1\n",
    "catalogs = Vizier.get_catalogs(catalog_list.keys())\n",
    "\n",
    "t = catalogs[0]\n",
    "t_hyg = Table.read('hygdata_v3.txt',format='pandas.csv')\n",
    "t_lines = Table.read('asterisms.csv')\n",
    "t_hyg['ra']=t_hyg['ra']*15\n",
    "\n",
    "catalog_list = Vizier.find_catalogs('The NGC 2000.0 Catalogue')\n",
    "print({k: v.description for k, v in catalog_list.items()})\n",
    "\n",
    "Vizier.ROW_LIMIT = -1\n",
    "catalogs = Vizier.get_catalogs(catalog_list.keys())\n",
    "\n",
    "t_NGC = catalogs[0]\n",
    "\n",
    "t_NGC_NAME = catalogs[1]\n",
    "\n",
    "t_NGC_const = t_NGC[t_NGC['Const'] == constname]\n",
    "\n",
    "ra_NGC = []\n",
    "dec_NGC = []\n",
    "name_NGC = []\n",
    "ra_Speical = []\n",
    "dec_Speical = []\n",
    "name_Speical = []\n",
    "for i in range(len(t_NGC_const)):\n",
    "    if t_NGC_const[i]['Name'] in t_NGC_NAME['Name']:\n",
    "        ra_Speical.append(\n",
    "            Angle(t_NGC_const[i]['RAB2000'], unit='hourangle').deg)\n",
    "        dec_Speical.append(Angle(t_NGC_const[i]['DEB2000'], unit=u.deg).deg)\n",
    "        name_Speical.append(t_NGC_NAME[t_NGC_NAME['Name'] == t_NGC_const[i]\n",
    "                                       ['Name']]['Object'][0])\n",
    "    else:\n",
    "        ra_NGC.append(Angle(t_NGC_const[i]['RAB2000'], unit='hourangle').deg)\n",
    "        dec_NGC.append(Angle(t_NGC_const[i]['DEB2000'], unit=u.deg).deg)\n",
    "        if t_NGC_const[i]['Name'][0] == 'I':\n",
    "            name_NGC.append('IC ' + t_NGC_const[i]['Name'][1::])\n",
    "        else:\n",
    "            name_NGC.append('NGC ' + t_NGC_const[i]['Name'])\n",
    "\n",
    "\n",
    "for i in enumerate(name_Speical):\n",
    "    if i[1][0]=='M' and i[1][1]==' ':\n",
    "        str1 = ' '.join(i[1].split())\n",
    "        name_Speical[i[0]]=str1.split(' ')[0]+str1.split(' ')[1]\n",
    "\n",
    "print(name_Speical)\n",
    "\n",
    "# Delete some unusful lines\n",
    "rax = []\n",
    "dex = []\n",
    "delx = []\n",
    "for i in range(len(t)):\n",
    "    try:\n",
    "        rax.append(Angle(t[i]['RAJ2000'],unit='hourangle').deg)\n",
    "        dex.append(Angle(t[i]['DEJ2000'],unit=u.deg).deg)\n",
    "    except:\n",
    "        delx.append(i)\n",
    "\n",
    "print(delx)\n",
    "for x in delx[::-1]:\n",
    "    del(t[x])\n",
    "    \n",
    "t_ra = Column(rax,name='ra_deg')\n",
    "t_de = Column(dex,name='dec_deg')\n",
    "t.add_column(t_ra,index=5)\n",
    "t.add_column(t_de,index=6)\n",
    "const = []\n",
    "for i in range(len(t)):\n",
    "   if constnameX in t['Name'][i]: \n",
    "        const.append(i)\n",
    "t_const = np.copy(t[const])"
   ]
  },
  {
   "cell_type": "code",
   "execution_count": 20,
   "metadata": {
    "ExecuteTime": {
     "end_time": "2019-08-13T00:37:44.514490Z",
     "start_time": "2019-08-13T00:37:44.510276Z"
    },
    "run_control": {
     "marked": true
    }
   },
   "outputs": [
    {
     "name": "stdout",
     "output_type": "stream",
     "text": [
      "91\n"
     ]
    }
   ],
   "source": [
    "# Set colors for bright stars 给亮星上色\n",
    "color = []\n",
    "for i in enumerate(t_const['SpType']):\n",
    "    c =i[1].decode('UTF-8')[0]\n",
    "    if   c == 'O': color.append('blue') ,\n",
    "    elif c == 'B': color.append('deepskyblue'),\n",
    "    elif c == 'A': color.append('cyan'),\n",
    "    elif c == 'F': color.append('lemonchiffon'),\n",
    "    elif c == 'G': color.append('lightyellow'),\n",
    "    elif c == 'K': color.append('yellow'),\n",
    "    elif c == 'M': color.append('orange'),\n",
    "    else         : color.append('tomato'),\n",
    "print(len(t_const))"
   ]
  },
  {
   "cell_type": "code",
   "execution_count": 21,
   "metadata": {
    "ExecuteTime": {
     "end_time": "2019-08-13T00:37:48.311711Z",
     "start_time": "2019-08-13T00:37:44.905011Z"
    },
    "code_folding": [],
    "run_control": {
     "marked": false
    }
   },
   "outputs": [],
   "source": [
    "#Find more stars in Hyg catalog 找到更多的Hyg星表中的恒星\n",
    "\n",
    "ra  = t_const['ra_deg']\n",
    "dec = t_const['dec_deg']\n",
    "others = []\n",
    "\n",
    "ra_max = np.max(ra)\n",
    "ra_min = np.min(ra)\n",
    "ra_mid = (ra_max+ra_min)/2\n",
    "\n",
    "if ra_max-ra_min>200:\n",
    "    ra_min=np.max(ra[ra<100])\n",
    "    ra_max=np.min(ra[ra>100])\n",
    "    #print(ra_min,ra_max)\n",
    "    ra_min2 = ra_max\n",
    "    ra_max  = ra_min + 360\n",
    "    ra_min = ra_min2\n",
    "    ra_mid = (ra_max+ra_min)/2\n",
    "\n",
    "    if ra_mid>360:\n",
    "        ra_mid = ra_mid-360\n",
    "    for i in range(len(t_hyg)):\n",
    "        if (ra_min2<t_hyg['ra'][i]<=360) and \\\n",
    "        (np.min(dec)<t_hyg['dec'][i]<=np.max(dec)):\n",
    "            others.append(i)   \n",
    "        if (0<t_hyg['ra'][i]<=ra_max-360) and \\\n",
    "        (np.min(dec)<t_hyg['dec'][i]<=np.max(dec)):\n",
    "            others.append(i)  \n",
    "else:\n",
    "    for i in range(len(t_hyg)):\n",
    "        if (ra_min<t_hyg['ra'][i]<=ra_max) and \\\n",
    "        (np.min(dec)<t_hyg['dec'][i]<=np.max(dec)):\n",
    "            others.append(i)\n",
    "\n",
    "ra_others=   t_hyg['ra'][others]\n",
    "dec_others = t_hyg['dec'][others]\n",
    "t_others = t_hyg[others]"
   ]
  },
  {
   "cell_type": "code",
   "execution_count": 22,
   "metadata": {
    "ExecuteTime": {
     "end_time": "2019-08-13T00:37:48.817488Z",
     "start_time": "2019-08-13T00:37:48.796713Z"
    }
   },
   "outputs": [
    {
     "name": "stdout",
     "output_type": "stream",
     "text": [
      "Aquarius   a :      alpha ----> 危宿一\n",
      "Aquarius   b :       beta ----> 虚宿一\n",
      "Aquarius   d :      delta ----> 羽林军二十六\n",
      "Aquarius   e :    epsilon ----> 女 宿 一\n",
      "Aquarius   g :      gamma ----> 坟墓二\n",
      "Aquarius   k :      kappa ----> 虚梁三\n",
      "Aquarius   q :      theta ----> 泣二\n",
      "Aquarius   x :         xi ----> 天垒城一\n"
     ]
    }
   ],
   "source": [
    "# Translate name into Chinese 翻译中文\n",
    "\n",
    "t_enggreece = Table.read('eng_greece.txt',format='pandas.csv')\n",
    "#t_starCN2 = Table.read('starnameCN.csv') # Alternative Chinese star chart\n",
    "t_starCN = Table.read('star_constCN.csv')\n",
    "t_starCN_const = t_starCN[t_starCN['col2']==constname]\n",
    "\n",
    "star_eng =t_starCN_const['col1']\n",
    "gre_name = []\n",
    "cn_name = []\n",
    "star_eng = np.unique(star_eng)\n",
    "\n",
    "ra_num=[]\n",
    "dec_num=[]\n",
    "name_num=[]\n",
    "\n",
    "for i in star_eng:\n",
    "    #print(i,t_starCN_const[t_starCN_const['col1']==i][0]['col3'])\n",
    "    try:\n",
    "        j =  t_const['Name']==str.encode(i.strip()+'    '+constname)\n",
    "        j2 = np.where(j)[0][0]\n",
    "        ra_num.append(t[const]['ra_deg'][j2])\n",
    "        dec_num.append(t[const]['dec_deg'][j2])\n",
    "        name_num.append(t_starCN_const[t_starCN_const['col1']==i][0]['col3'])\n",
    "    except:\n",
    "        pass\n",
    "    try:\n",
    "        s = t_enggreece[t_enggreece['en']==i[0]]['engname']\n",
    "        cnname = t_starCN_const[t_starCN_const['col1']==i][0]['col3']\n",
    "        gre_name.append(s[0])\n",
    "        cn_name.append(cnname)\n",
    "        print(constfullname+'%4s' %i,':','%10s' %s[0],'---->',cnname)\n",
    "    except:\n",
    "        pass"
   ]
  },
  {
   "cell_type": "code",
   "execution_count": 23,
   "metadata": {
    "ExecuteTime": {
     "end_time": "2019-08-13T00:37:51.395514Z",
     "start_time": "2019-08-13T00:37:51.361403Z"
    },
    "code_folding": [
     0
    ],
    "run_control": {
     "marked": false
    }
   },
   "outputs": [],
   "source": [
    "# Load Greece letters 读取希腊字母\n",
    "greek_alphabet = {\n",
    "    u'\\u0391': 'Alpha',\n",
    "    u'\\u0392': 'Beta',\n",
    "    u'\\u0393': 'Gamma',\n",
    "    u'\\u0394': 'Delta',\n",
    "    u'\\u0395': 'Epsilon',\n",
    "    u'\\u0396': 'Zeta',\n",
    "    u'\\u0397': 'Eta',\n",
    "    u'\\u0398': 'Theta',\n",
    "    u'\\u0399': 'Iota',\n",
    "    u'\\u039A': 'Kappa',\n",
    "    u'\\u039B': 'Lamda',\n",
    "    u'\\u039C': 'Mu',\n",
    "    u'\\u039D': 'Nu',\n",
    "    u'\\u039E': 'Xi',\n",
    "    u'\\u039F': 'Omicron',\n",
    "    u'\\u03A0': 'Pi',\n",
    "    u'\\u03A1': 'Rho',\n",
    "    u'\\u03A3': 'Sigma',\n",
    "    u'\\u03A4': 'Tau',\n",
    "    u'\\u03A5': 'Upsilon',\n",
    "    u'\\u03A6': 'Phi',\n",
    "    u'\\u03A7': 'Chi',\n",
    "    u'\\u03A8': 'Psi',\n",
    "    u'\\u03A9': 'Omega',\n",
    "    u'\\u03B1': 'alpha',\n",
    "    u'\\u03B2': 'beta',\n",
    "    u'\\u03B3': 'gamma',\n",
    "    u'\\u03B4': 'delta',\n",
    "    u'\\u03B5': 'epsilon',\n",
    "    u'\\u03B6': 'zeta',\n",
    "    u'\\u03B7': 'eta',\n",
    "    u'\\u03B8': 'theta',\n",
    "    u'\\u03B9': 'iota',\n",
    "    u'\\u03BA': 'kappa',\n",
    "    u'\\u03BB': 'lamda',\n",
    "    u'\\u03BC': 'mu',\n",
    "    u'\\u03BD': 'nu',\n",
    "    u'\\u03BE': 'xi',\n",
    "    u'\\u03BF': 'omicron',\n",
    "    u'\\u03C0': 'pi',\n",
    "    u'\\u03C1': 'rho',\n",
    "    u'\\u03C3': 'sigma',\n",
    "    u'\\u03C4': 'tau',\n",
    "    u'\\u03C5': 'upsilon',\n",
    "    u'\\u03C6': 'phi',\n",
    "    u'\\u03C7': 'chi',\n",
    "    u'\\u03C8': 'psi',\n",
    "    u'\\u03C9': 'omega',\n",
    "}\n",
    "greece_reverse = dict(map(reversed, greek_alphabet.items()))\n",
    "\n",
    "greece_list = list(greek_alphabet.values())"
   ]
  },
  {
   "cell_type": "code",
   "execution_count": 24,
   "metadata": {
    "ExecuteTime": {
     "end_time": "2019-08-13T00:37:51.881250Z",
     "start_time": "2019-08-13T00:37:51.877113Z"
    },
    "run_control": {
     "marked": true
    }
   },
   "outputs": [],
   "source": [
    "#Pre-process for lines between stars. 星座连线预处理\n",
    "\n",
    "t_line_const = t_lines[t_lines['constellation']==constname]\n",
    "ra_line = t_line_const['ra'][0].split('[')[1].split(']')[0].split(',')\n",
    "dec_line = t_line_const['dec'][0].split('[')[1].split(']')[0].split(',')\n",
    "npair = int(t_line_const['num_pairs'])\n",
    "plt_ra = [[float(ra_line[2*i])*15,\n",
    "                 float(ra_line[2*i+1])*15] for i in range(npair)]\n",
    "plt_dec = [[float(dec_line[2*i]),\n",
    "            float(dec_line[2*i+1])] for i in range(npair)]"
   ]
  },
  {
   "cell_type": "code",
   "execution_count": 25,
   "metadata": {
    "ExecuteTime": {
     "end_time": "2019-08-13T00:37:52.316213Z",
     "start_time": "2019-08-13T00:37:52.287450Z"
    }
   },
   "outputs": [
    {
     "name": "stdout",
     "output_type": "stream",
     "text": [
      "optimizing parameters of Albers to minimize stdDistortion\n",
      "best objective 0.006721 at Albers(340.36731790681785,-9.610833333333334,-19.306146257828345,-2.6564301982579286)\n",
      "340.36731790681785 333.84624999999994\n"
     ]
    }
   ],
   "source": [
    "#Setting Plot area and title 设定绘画范围和标题\n",
    "\n",
    "crit = skm.stdDistortion\n",
    "proj = skm.Albers.optimize(ra,dec,crit=crit)\n",
    "\n",
    "print(proj.lon_0,ra_mid)\n",
    "proj.lon_0=ra_mid\n",
    "title_ra = proj.lon_0\n",
    "title_dec1 = (proj.lat_1+(proj.lat_2-proj.lat_1)*1.0)\n",
    "title_dec2 = (proj.lat_1+(proj.lat_2-proj.lat_1)*0.9)\n",
    "title_string1 =constfullnameCN\n",
    "title_string2 ='知乎@凌晨晓骥'"
   ]
  },
  {
   "cell_type": "code",
   "execution_count": 28,
   "metadata": {
    "ExecuteTime": {
     "end_time": "2019-08-13T00:39:34.128632Z",
     "start_time": "2019-08-13T00:39:32.995486Z"
    },
    "code_folding": [
     29
    ],
    "run_control": {
     "marked": false
    },
    "scrolled": false
   },
   "outputs": [
    {
     "name": "stderr",
     "output_type": "stream",
     "text": [
      "/home/jl/anaconda3/envs/astroconda/lib/python3.6/site-packages/matplotlib/collections.py:857: RuntimeWarning: invalid value encountered in sqrt\n",
      "  scale = np.sqrt(self._sizes) * dpi / 72.0 * self._factor\n",
      "/home/jl/anaconda3/envs/astroconda/lib/python3.6/site-packages/skymapper/map.py:688: UserWarning: Tight layout not applied. The left and right margins cannot be made large enough to accommodate all axes decorations. \n",
      "  self.fig.tight_layout(pad=0.75)\n"
     ]
    },
    {
     "name": "stdout",
     "output_type": "stream",
     "text": [
      "0 M72\n",
      "1 M73\n",
      "2 Saturn nebula\n",
      "3 Baxendell's unphotographable nebula\n",
      "4 M2\n",
      "5 Helix nebula\n"
     ]
    },
    {
     "name": "stderr",
     "output_type": "stream",
     "text": [
      "/home/jl/anaconda3/envs/astroconda/lib/python3.6/site-packages/skymapper/map.py:810: UserWarning: Tight layout not applied. The left and right margins cannot be made large enough to accommodate all axes decorations. \n",
      "  self.fig.tight_layout(pad=0.75)\n"
     ]
    },
    {
     "data": {
      "text/plain": [
       "Text(-0.0, 0.09303007914710015, '知乎@凌晨晓骥')"
      ]
     },
     "execution_count": 28,
     "metadata": {},
     "output_type": "execute_result"
    }
   ],
   "source": [
    "#Plot the graph!   画图 !\n",
    "\n",
    "plt.rcParams['font.sans-serif']=['SimHei'] #用来正常显示中文标签\n",
    "plt.rcParams['axes.unicode_minus']=False\n",
    "\n",
    "mapx = skm.Map(proj, facecolor='black')\n",
    "sep = 5\n",
    "mapx.grid(sep=sep, c='white', lw=0.5, alpha=0.3)\n",
    "mapx.scatter(ra_others, dec_others, s=(17-t_others['mag'])**5/8e5, c='white')\n",
    "mapx.scatter(ra,\n",
    "             dec,\n",
    "             s=(10 - t_const['Vmag'])**5 / 5e2,\n",
    "             c=color,\n",
    "             edgecolor=color,\n",
    "             facecolor='white')\n",
    "mapx.scatter(ra,\n",
    "             dec,\n",
    "             s=(10 - t_const['Vmag'])**5 / 6e2,\n",
    "             alpha=0.9,\n",
    "             c='white',\n",
    "             edgecolor=color,\n",
    "             facecolor='white')\n",
    "mapx.focus(ra, dec)\n",
    "\n",
    "dec_range = np.max(dec)-np.min(dec)\n",
    "\n",
    "for i in enumerate(t_const['Name']):\n",
    "    namex = i[1].decode('UTF-8').split(constname)[0]\n",
    "    ss = [''.join(g) for _, g in groupby(namex, str.isalpha)]\n",
    "    res = [i for i in ss if i.isalpha()]\n",
    "    #print(res)\n",
    "    if len(res):\n",
    "        namey = res[0].lower()\n",
    "        #print(namey)\n",
    "        diflib = difflib.get_close_matches(namey, greece_list)\n",
    "        for j in diflib:\n",
    "            if j[0:2]==namey[0:2]:\n",
    "                namez = j\n",
    "        difflib.get_close_matches(namey, greece_list)[0]\n",
    "        namezx = greece_reverse[namez]\n",
    "        #print(namex,namey,namez,namezx)\n",
    "        cn_add = ''\n",
    "        if len(ss) > 2:\n",
    "            if ss[2].strip() != '':\n",
    "                cn_add= ss[2].strip()\n",
    "                namezx = r'$' + namezx.strip() + '^{' + ss[2].strip() + '}$'\n",
    "        else:\n",
    "            namezx = r'$' +namezx.strip() + '$'\n",
    "        if namez in gre_name:\n",
    "            gre_index = gre_name.index(namez)\n",
    "            mapx.text(ra[i[0]],\n",
    "                  dec[i[0]] - dec_range/50,\n",
    "                  cn_name[gre_index]+cn_add,\n",
    "                  c='yellow',\n",
    "                  fontsize=10,\n",
    "                  ha='center',\n",
    "                  va='center')    \n",
    "        \n",
    "        mapx.text(ra[i[0]],\n",
    "                  dec[i[0]] + dec_range/50,\n",
    "                  namezx,\n",
    "                  c='lime',\n",
    "                  fontsize=15,\n",
    "                  ha='center',\n",
    "                  va='center')\n",
    "   \n",
    "for i in range(len(ra_num)):\n",
    "    mapx.text(ra_num[i],\n",
    "              dec_num[i] - dec_range/50,\n",
    "              name_num[i],\n",
    "              c='yellow',\n",
    "              fontsize=10,\n",
    "              ha='center',\n",
    "              va='center')\n",
    "for i in range(npair):\n",
    "    mapx.plot(np.asarray(plt_ra[i]),\n",
    "              np.asarray(plt_dec[i]),\n",
    "              color='white',\n",
    "              alpha=0.5,\n",
    "              lw=0.5)\n",
    "if len(ra_Speical):\n",
    "    mapx.scatter(np.asarray(ra_Speical),np.asarray(dec_Speical),\n",
    "                 marker='o',c='',edgecolor='cyan',s=40,lw=0.5)\n",
    "for i in range(len(ra_Speical)):\n",
    "    print(i,name_Speical[i])\n",
    "    mapx.text(ra_Speical[i],\n",
    "              dec_Speical[i] + dec_range/100.0,\n",
    "              name_Speical[i]\n",
    "              ,fontsize=10,c='cyan',ha='center',va='center')\n",
    "if len(ra_NGC):\n",
    "    mapx.scatter(np.asarray(ra_NGC),np.asarray(dec_NGC),\n",
    "                 marker='o',c='',edgecolor='magenta',s=5,lw=0.5,alpha=0.5)\n",
    "# for i in range(len(ra_NGC)):\n",
    "#     #print(i,name_NGC[i])\n",
    "#     mapx.text(ra_NGC[i],\n",
    "#               dec_NGC[i] + dec_range/100.0,\n",
    "#               name_NGC[i]\n",
    "#               ,fontsize=10,c='magenta',ha='center',va='center')\n",
    "mapx.text(title_ra,title_dec1,title_string1,\n",
    "          c='white',fontsize=30,alpha = 0.5,ha='center',va='center')\n",
    "mapx.text(title_ra,title_dec2,title_string2,\n",
    "          c='white',fontsize=20,alpha = 0.4,ha='center',va='center')"
   ]
  },
  {
   "cell_type": "code",
   "execution_count": null,
   "metadata": {},
   "outputs": [],
   "source": []
  }
 ],
 "metadata": {
  "kernelspec": {
   "display_name": "Python 3",
   "language": "python",
   "name": "python3"
  },
  "language_info": {
   "codemirror_mode": {
    "name": "ipython",
    "version": 3
   },
   "file_extension": ".py",
   "mimetype": "text/x-python",
   "name": "python",
   "nbconvert_exporter": "python",
   "pygments_lexer": "ipython3",
   "version": "3.6.7"
  },
  "latex_envs": {
   "LaTeX_envs_menu_present": true,
   "autoclose": false,
   "autocomplete": true,
   "bibliofile": "biblio.bib",
   "cite_by": "apalike",
   "current_citInitial": 1,
   "eqLabelWithNumbers": true,
   "eqNumInitial": 1,
   "hotkeys": {
    "equation": "Ctrl-E",
    "itemize": "Ctrl-I"
   },
   "labels_anchors": false,
   "latex_user_defs": false,
   "report_style_numbering": false,
   "user_envs_cfg": false
  },
  "nbTranslate": {
   "displayLangs": [
    "*"
   ],
   "hotkey": "alt-t",
   "langInMainMenu": true,
   "sourceLang": "en",
   "targetLang": "fr",
   "useGoogleTranslate": true
  },
  "toc": {
   "base_numbering": 1,
   "nav_menu": {},
   "number_sections": true,
   "sideBar": true,
   "skip_h1_title": false,
   "title_cell": "Table of Contents",
   "title_sidebar": "Contents",
   "toc_cell": false,
   "toc_position": {},
   "toc_section_display": true,
   "toc_window_display": false
  },
  "varInspector": {
   "cols": {
    "lenName": 16,
    "lenType": 16,
    "lenVar": 40
   },
   "kernels_config": {
    "python": {
     "delete_cmd_postfix": "",
     "delete_cmd_prefix": "del ",
     "library": "var_list.py",
     "varRefreshCmd": "print(var_dic_list())"
    },
    "r": {
     "delete_cmd_postfix": ") ",
     "delete_cmd_prefix": "rm(",
     "library": "var_list.r",
     "varRefreshCmd": "cat(var_dic_list()) "
    }
   },
   "types_to_exclude": [
    "module",
    "function",
    "builtin_function_or_method",
    "instance",
    "_Feature"
   ],
   "window_display": false
  }
 },
 "nbformat": 4,
 "nbformat_minor": 2
}
