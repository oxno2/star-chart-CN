{
 "cells": [
  {
   "cell_type": "code",
   "execution_count": 15,
   "metadata": {
    "ExecuteTime": {
     "end_time": "2019-08-13T01:22:51.238062Z",
     "start_time": "2019-08-13T01:22:51.236065Z"
    },
    "run_control": {
     "marked": true
    }
   },
   "outputs": [],
   "source": [
    "#Below are depedent python packages! You can install them in terminal or inside jupyter!\n",
    "#必备 python 包，如果没有安装可以在命令行或者jupyter 内安装\n",
    "\n",
    "!pip install astropy\n",
    "!pip install skymapper\n",
    "!pip install healpy\n",
    "!pip install --pre astroquery\n",
    "!pip install hanziconv\n",
    "!pip install pandas"
   ]
  },
  {
   "cell_type": "code",
   "execution_count": 2,
   "metadata": {
    "ExecuteTime": {
     "end_time": "2019-08-13T01:22:01.340273Z",
     "start_time": "2019-08-13T01:22:00.469346Z"
    },
    "run_control": {
     "marked": true
    }
   },
   "outputs": [
    {
     "name": "stderr",
     "output_type": "stream",
     "text": [
      "WARNING: AstropyDeprecationWarning: astropy.extern.six will be removed in 4.0, use the six module directly if it is still needed [astropy.extern.six]\n"
     ]
    }
   ],
   "source": [
    "# import python libararies  导入必备的软件包\n",
    "\n",
    "from astropy import *\n",
    "from astroquery.vizier import Vizier\n",
    "from astropy.coordinates import Angle\n",
    "from astropy.table import Table,Column\n",
    "import numpy as np\n",
    "import matplotlib.pyplot as plt\n",
    "import astropy.units as u\n",
    "from matplotlib.pyplot import figure\n",
    "from astropy.wcs import WCS\n",
    "from astropy.io import fits\n",
    "import pandas\n",
    "import skymapper as skm\n",
    "from hanziconv import HanziConv\n",
    "from itertools import groupby\n",
    "import difflib"
   ]
  },
  {
   "cell_type": "code",
   "execution_count": 3,
   "metadata": {
    "ExecuteTime": {
     "end_time": "2019-08-13T01:22:01.378045Z",
     "start_time": "2019-08-13T01:22:01.341628Z"
    }
   },
   "outputs": [
    {
     "name": "stdout",
     "output_type": "stream",
     "text": [
      "  仙女座            Andromeda      And\n",
      "  唧筒座               Antlia      Ant\n",
      "  天燕座                 Apus      Aps\n",
      "  天鹰座               Aquila      Aql\n",
      "  宝瓶座             Aquarius      Aqr\n",
      "  天坛座                  Ara      Ara\n",
      "  白羊座                Aries      Ari\n",
      "  御夫座               Auriga      Aur\n",
      "  牧夫座               Boötes      Boo\n",
      "  大犬座          Canis Major      CMa\n",
      "  小犬座          Canis Minor      CMi\n",
      "  猎犬座       Canes Venatici      CVn\n",
      "  雕具座               Caelum      Cae\n",
      "  鹿豹座       Camelopardalis      Cam\n",
      "  摩羯座          Capricornus      Cap\n",
      "  船底座               Carina      Car\n",
      "  仙后座           Cassiopeia      Cas\n",
      " 半人马座            Centaurus      Cen\n",
      "  仙王座              Cepheus      Cep\n",
      "  鲸鱼座                Cetus      Cet\n",
      "  蝘蜓座           Chamaeleon      Cha\n",
      "  圆规座             Circinus      Cir\n",
      "  巨蟹座               Cancer      Cnc\n",
      "  天鸽座              Columba      Col\n",
      "  后发座       Coma Berenices      Com\n",
      "  南冕座     Corona Australis      CrA\n",
      "  北冕座      Corona Borealis      CrB\n",
      "  巨爵座               Crater      Crt\n",
      " 南十字座                 Crux      Cru\n",
      "  乌鸦座               Corvus      Crv\n",
      "  天鹅座               Cygnus      Cyg\n",
      "  海豚座            Delphinus      Del\n",
      "  剑鱼座               Dorado      Dor\n",
      "  天龙座                Draco      Dra\n",
      "  小马座             Equuleus      Equ\n",
      "  波江座             Eridanus      Eri\n",
      "  天炉座               Fornax      For\n",
      "  双子座               Gemini      Gem\n",
      "  天鹤座                 Grus      Gru\n",
      "  武仙座             Hercules      Her\n",
      "  时钟座           Horologium      Hor\n",
      "  长蛇座                Hydra      Hya\n",
      "  水蛇座               Hydrus      Hyi\n",
      " 印第安座                Indus      Ind\n",
      "  小狮座            Leo Minor      LMi\n",
      "  蝎虎座              Lacerta      Lac\n",
      "  狮子座                  Leo      Leo\n",
      "  天兔座                Lepus      Lep\n",
      "  天秤座                Libra      Lib\n",
      "  豺狼座                Lupus      Lup\n",
      "  天猫座                 Lynx      Lyn\n",
      "  天琴座                 Lyra      Lyr\n",
      "  山案座                Mensa      Men\n",
      " 显微镜座         Microscopium      Mic\n",
      "  麒麟座            Monoceros      Mon\n",
      "  苍蝇座                Musca      Mus\n",
      "  矩尺座                Norma      Nor\n",
      "  南极座               Octans      Oct\n",
      "  蛇夫座            Ophiuchus      Oph\n",
      "  猎户座                Orion      Ori\n",
      "  孔雀座                 Pavo      Pav\n",
      "  飞马座              Pegasus      Peg\n",
      "  英仙座              Perseus      Per\n",
      "  凤凰座              Phoenix      Phe\n",
      "  绘架座               Pictor      Pic\n",
      "  南鱼座     Piscis Austrinus      PsA\n",
      "  双鱼座               Pisces      Psc\n",
      "  船尾座               Puppis      Pup\n",
      "  罗盘座                Pyxis      Pyx\n",
      "  网罟座            Reticulum      Ret\n",
      "  玉夫座             Sculptor      Scl\n",
      "  天蝎座             Scorpius      Sco\n",
      "  盾牌座               Scutum      Sct\n",
      "  巨蛇座              Serpens      Ser\n",
      " 六分仪座              Sextans      Sex\n",
      "  天箭座              Sagitta      Sge\n",
      "  人马座          Sagittarius      Sgr\n",
      "  金牛座               Taurus      Tau\n",
      " 望远镜座          Telescopium      Tel\n",
      " 南三角座  Triangulum Australe      TrA\n",
      "  三角座           Triangulum      Tri\n",
      "  杜鹃座               Tucana      Tuc\n",
      "  大熊座           Ursa Major      UMa\n",
      "  小熊座           Ursa Minor      UMi\n",
      "  船帆座                 Vela      Vel\n",
      "  室女座                Virgo      Vir\n",
      "  飞鱼座               Volans      Vol\n",
      "  狐狸座            Vulpecula      Vul\n"
     ]
    }
   ],
   "source": [
    "# Read and print consterllations in Chinese and English\n",
    "# 读取并打印星座中文名和缩写\n",
    "t_cn = pandas.read_fwf('consterllation_cn',widths=[4,30,10],header=None)\n",
    "\n",
    "for i in range(len(t_cn)):\n",
    "    print('%5s'%HanziConv.toSimplified(t_cn[2][i]),'%20s'%(t_cn[1][i]),'    ',t_cn[0][i])"
   ]
  },
  {
   "cell_type": "code",
   "execution_count": 4,
   "metadata": {
    "ExecuteTime": {
     "end_time": "2019-08-13T01:22:01.390893Z",
     "start_time": "2019-08-13T01:22:01.388869Z"
    }
   },
   "outputs": [],
   "source": [
    "#  Manually input a consterllation name here. 在此处输入星座缩写\n",
    "constname = 'UMa'"
   ]
  },
  {
   "cell_type": "code",
   "execution_count": 5,
   "metadata": {
    "ExecuteTime": {
     "end_time": "2019-08-13T01:22:01.397117Z",
     "start_time": "2019-08-13T01:22:01.392346Z"
    }
   },
   "outputs": [
    {
     "name": "stdout",
     "output_type": "stream",
     "text": [
      "中文名： 大熊座 ，   英文名： Ursa Major ，   缩写： UMa\n"
     ]
    }
   ],
   "source": [
    "constnameX = constname\n",
    "if constname == 'Tau':\n",
    "    constnameX =' Tau'\n",
    "\n",
    "index = t_cn.index[t_cn[0]==constname]\n",
    "constfullname = t_cn[1][index[0]]\n",
    "constfullnameCN = HanziConv.toSimplified(t_cn[2][index[0]])\n",
    "print(\"中文名：\",constfullnameCN,'，   英文名：',constfullname,'，   缩写：',constname)"
   ]
  },
  {
   "cell_type": "code",
   "execution_count": 6,
   "metadata": {
    "ExecuteTime": {
     "end_time": "2019-08-13T01:22:07.819012Z",
     "start_time": "2019-08-13T01:22:01.398723Z"
    },
    "run_control": {
     "marked": true
    }
   },
   "outputs": [
    {
     "name": "stdout",
     "output_type": "stream",
     "text": [
      "{'V/50': 'Bright Star Catalogue, 5th Revised Ed. (Hoffleit+, 1991)'}\n",
      "{'VII/118': 'NGC 2000.0 (Sky Publishing, ed. Sinnott 1988)', 'VII/155': 'Third Reference Cat. of Bright Galaxies (RC3) (de Vaucouleurs+ 1991)'}\n",
      "['Helix galaxy', \"Bode's nebulae\", \"Bode's nebulae\", 'M108', 'M97', 'Papillon', 'M109', 'M101']\n",
      "[91, 94, 181, 1056, 1840, 2471, 2495, 3514, 3670, 6308, 6515, 7036, 7189, 8295]\n"
     ]
    }
   ],
   "source": [
    "# Load star charts and pre-process 读取星表并预处理\n",
    "\n",
    "catalog_list = Vizier.find_catalogs('Bright Star Catalogue, 5th')\n",
    "print({k:v.description for k,v in catalog_list.items()})\n",
    "\n",
    "Vizier.ROW_LIMIT = -1\n",
    "catalogs = Vizier.get_catalogs(catalog_list.keys())\n",
    "\n",
    "t = catalogs[0]\n",
    "t_hyg = Table.read('hygdata_v3.txt',format='pandas.csv')\n",
    "t_lines = Table.read('asterisms.csv')\n",
    "t_hyg['ra']=t_hyg['ra']*15\n",
    "\n",
    "catalog_list = Vizier.find_catalogs('The NGC 2000.0 Catalogue')\n",
    "print({k: v.description for k, v in catalog_list.items()})\n",
    "\n",
    "Vizier.ROW_LIMIT = -1\n",
    "catalogs = Vizier.get_catalogs(catalog_list.keys())\n",
    "\n",
    "t_NGC = catalogs[0]\n",
    "\n",
    "t_NGC_NAME = catalogs[1]\n",
    "\n",
    "t_NGC_const = t_NGC[t_NGC['Const'] == constname]\n",
    "\n",
    "ra_NGC = []\n",
    "dec_NGC = []\n",
    "name_NGC = []\n",
    "ra_Speical = []\n",
    "dec_Speical = []\n",
    "name_Speical = []\n",
    "for i in range(len(t_NGC_const)):\n",
    "    if t_NGC_const[i]['Name'] in t_NGC_NAME['Name']:\n",
    "        ra_Speical.append(\n",
    "            Angle(t_NGC_const[i]['RAB2000'], unit='hourangle').deg)\n",
    "        dec_Speical.append(Angle(t_NGC_const[i]['DEB2000'], unit=u.deg).deg)\n",
    "        name_Speical.append(t_NGC_NAME[t_NGC_NAME['Name'] == t_NGC_const[i]\n",
    "                                       ['Name']]['Object'][0])\n",
    "    else:\n",
    "        ra_NGC.append(Angle(t_NGC_const[i]['RAB2000'], unit='hourangle').deg)\n",
    "        dec_NGC.append(Angle(t_NGC_const[i]['DEB2000'], unit=u.deg).deg)\n",
    "        if t_NGC_const[i]['Name'][0] == 'I':\n",
    "            name_NGC.append('IC ' + t_NGC_const[i]['Name'][1::])\n",
    "        else:\n",
    "            name_NGC.append('NGC ' + t_NGC_const[i]['Name'])\n",
    "\n",
    "\n",
    "for i in enumerate(name_Speical):\n",
    "    if i[1][0]=='M' and i[1][1]==' ':\n",
    "        str1 = ' '.join(i[1].split())\n",
    "        name_Speical[i[0]]=str1.split(' ')[0]+str1.split(' ')[1]\n",
    "\n",
    "print(name_Speical)\n",
    "\n",
    "# Delete some unuseful lines\n",
    "rax = []\n",
    "dex = []\n",
    "delx = []\n",
    "for i in range(len(t)):\n",
    "    try:\n",
    "        rax.append(Angle(t[i]['RAJ2000'],unit='hourangle').deg)\n",
    "        dex.append(Angle(t[i]['DEJ2000'],unit=u.deg).deg)\n",
    "    except:\n",
    "        delx.append(i)\n",
    "\n",
    "print(delx)\n",
    "for x in delx[::-1]:\n",
    "    del(t[x])\n",
    "    \n",
    "t_ra = Column(rax,name='ra_deg')\n",
    "t_de = Column(dex,name='dec_deg')\n",
    "t.add_column(t_ra,index=5)\n",
    "t.add_column(t_de,index=6)\n",
    "const = []\n",
    "for i in range(len(t)):\n",
    "   if constnameX in t['Name'][i]: \n",
    "        const.append(i)\n",
    "t_const = np.copy(t[const])"
   ]
  },
  {
   "cell_type": "code",
   "execution_count": 7,
   "metadata": {
    "ExecuteTime": {
     "end_time": "2019-08-13T01:22:07.829977Z",
     "start_time": "2019-08-13T01:22:07.821071Z"
    },
    "run_control": {
     "marked": true
    }
   },
   "outputs": [
    {
     "name": "stdout",
     "output_type": "stream",
     "text": [
      "82\n"
     ]
    }
   ],
   "source": [
    "# Set colors for bright stars 给亮星上色\n",
    "color = []\n",
    "for i in enumerate(t_const['SpType']):\n",
    "    c =i[1].decode('UTF-8')[0]\n",
    "    if   c == 'O': color.append('blue') ,\n",
    "    elif c == 'B': color.append('deepskyblue'),\n",
    "    elif c == 'A': color.append('cyan'),\n",
    "    elif c == 'F': color.append('lemonchiffon'),\n",
    "    elif c == 'G': color.append('lightyellow'),\n",
    "    elif c == 'K': color.append('yellow'),\n",
    "    elif c == 'M': color.append('orange'),\n",
    "    else         : color.append('tomato'),\n",
    "print(len(t_const))"
   ]
  },
  {
   "cell_type": "code",
   "execution_count": 8,
   "metadata": {
    "ExecuteTime": {
     "end_time": "2019-08-13T01:22:12.359872Z",
     "start_time": "2019-08-13T01:22:07.832571Z"
    },
    "code_folding": [],
    "run_control": {
     "marked": false
    }
   },
   "outputs": [],
   "source": [
    "#Find more stars in Hyg catalog 找到更多的Hyg星表中的恒星\n",
    "\n",
    "ra  = t_const['ra_deg']\n",
    "dec = t_const['dec_deg']\n",
    "others = []\n",
    "\n",
    "ra_max = np.max(ra)\n",
    "ra_min = np.min(ra)\n",
    "ra_mid = (ra_max+ra_min)/2\n",
    "\n",
    "if ra_max-ra_min>200:\n",
    "    ra_min=np.max(ra[ra<100])\n",
    "    ra_max=np.min(ra[ra>100])\n",
    "    #print(ra_min,ra_max)\n",
    "    ra_min2 = ra_max\n",
    "    ra_max  = ra_min + 360\n",
    "    ra_min = ra_min2\n",
    "    ra_mid = (ra_max+ra_min)/2\n",
    "\n",
    "    if ra_mid>360:\n",
    "        ra_mid = ra_mid-360\n",
    "    for i in range(len(t_hyg)):\n",
    "        if (ra_min2<t_hyg['ra'][i]<=360) and \\\n",
    "        (np.min(dec)<t_hyg['dec'][i]<=np.max(dec)):\n",
    "            others.append(i)   \n",
    "        if (0<t_hyg['ra'][i]<=ra_max-360) and \\\n",
    "        (np.min(dec)<t_hyg['dec'][i]<=np.max(dec)):\n",
    "            others.append(i)  \n",
    "else:\n",
    "    for i in range(len(t_hyg)):\n",
    "        if (ra_min<t_hyg['ra'][i]<=ra_max) and \\\n",
    "        (np.min(dec)<t_hyg['dec'][i]<=np.max(dec)):\n",
    "            others.append(i)\n",
    "\n",
    "ra_others=   t_hyg['ra'][others]\n",
    "dec_others = t_hyg['dec'][others]\n",
    "t_others = t_hyg[others]"
   ]
  },
  {
   "cell_type": "code",
   "execution_count": 9,
   "metadata": {
    "ExecuteTime": {
     "end_time": "2019-08-13T01:22:12.392056Z",
     "start_time": "2019-08-13T01:22:12.361367Z"
    }
   },
   "outputs": [
    {
     "name": "stdout",
     "output_type": "stream",
     "text": [
      "Ursa Major   a :      alpha ----> 天 枢 ,北 斗 一\n",
      "Ursa Major   b :       beta ----> 天璇 , 北斗二\n",
      "Ursa Major   c :        chi ----> 太 阳 守\n",
      "Ursa Major   d :      delta ----> 天权, 北斗四\n",
      "Ursa Major   e :    epsilon ----> 玉衡 , 北斗五\n",
      "Ursa Major   g :      gamma ----> 天玑 , 北斗三\n",
      "Ursa Major   h :        eta ----> 摇光 , 北斗七\n",
      "Ursa Major   i :       iota ----> 上台一 , 三台一\n",
      "Ursa Major   k :      kappa ----> 上台二 , 二台二\n",
      "Ursa Major   l :      lamda ----> 中台一 , 三台三\n",
      "Ursa Major   m :         mu ----> 中台二 , 三台四\n",
      "Ursa Major   n :         nu ----> 下台一 , 三台五\n",
      "Ursa Major   o :    omikron ----> 内阶一\n",
      "Ursa Major   p :         pi ----> 内阶增七 , 内阶增九\n",
      "Ursa Major   x :         xi ----> 下台二 , 三台六\n",
      "Ursa Major   z :       zeta ----> 开阳 , 北斗六\n"
     ]
    }
   ],
   "source": [
    "# Translate the names into Chinese 翻译中文\n",
    "\n",
    "t_enggreece = Table.read('eng_greece.txt',format='pandas.csv')\n",
    "#t_starCN2 = Table.read('starnameCN.csv') # Alternative Chinese star chart\n",
    "t_starCN = Table.read('star_constCN.csv')\n",
    "t_starCN_const = t_starCN[t_starCN['col2']==constname]\n",
    "\n",
    "star_eng =t_starCN_const['col1']\n",
    "gre_name = []\n",
    "cn_name = []\n",
    "star_eng = np.unique(star_eng)\n",
    "\n",
    "ra_num=[]\n",
    "dec_num=[]\n",
    "name_num=[]\n",
    "\n",
    "for i in star_eng:\n",
    "    #print(i,t_starCN_const[t_starCN_const['col1']==i][0]['col3'])\n",
    "    try:\n",
    "        j =  t_const['Name']==str.encode(i.strip()+'    '+constname)\n",
    "        j2 = np.where(j)[0][0]\n",
    "        ra_num.append(t[const]['ra_deg'][j2])\n",
    "        dec_num.append(t[const]['dec_deg'][j2])\n",
    "        name_num.append(t_starCN_const[t_starCN_const['col1']==i][0]['col3'])\n",
    "    except:\n",
    "        pass\n",
    "    try:\n",
    "        if len(i)==1:\n",
    "            s = t_enggreece[t_enggreece['en']==i[0]]['engname']\n",
    "            cnname = t_starCN_const[t_starCN_const['col1']==i][0]['col3']\n",
    "            gre_name.append(s[0])\n",
    "            cn_name.append(cnname)\n",
    "            print(constfullname+'%4s' %i,':','%10s' %s[0],'---->',cnname)\n",
    "    except:\n",
    "        pass"
   ]
  },
  {
   "cell_type": "code",
   "execution_count": 10,
   "metadata": {
    "ExecuteTime": {
     "end_time": "2019-08-13T01:22:12.398487Z",
     "start_time": "2019-08-13T01:22:12.393494Z"
    },
    "code_folding": [
     0
    ],
    "run_control": {
     "marked": false
    }
   },
   "outputs": [],
   "source": [
    "# Load Greece letters 读取希腊字母\n",
    "greek_alphabet = {\n",
    "    u'\\u0391': 'Alpha',\n",
    "    u'\\u0392': 'Beta',\n",
    "    u'\\u0393': 'Gamma',\n",
    "    u'\\u0394': 'Delta',\n",
    "    u'\\u0395': 'Epsilon',\n",
    "    u'\\u0396': 'Zeta',\n",
    "    u'\\u0397': 'Eta',\n",
    "    u'\\u0398': 'Theta',\n",
    "    u'\\u0399': 'Iota',\n",
    "    u'\\u039A': 'Kappa',\n",
    "    u'\\u039B': 'Lamda',\n",
    "    u'\\u039C': 'Mu',\n",
    "    u'\\u039D': 'Nu',\n",
    "    u'\\u039E': 'Xi',\n",
    "    u'\\u039F': 'Omicron',\n",
    "    u'\\u03A0': 'Pi',\n",
    "    u'\\u03A1': 'Rho',\n",
    "    u'\\u03A3': 'Sigma',\n",
    "    u'\\u03A4': 'Tau',\n",
    "    u'\\u03A5': 'Upsilon',\n",
    "    u'\\u03A6': 'Phi',\n",
    "    u'\\u03A7': 'Chi',\n",
    "    u'\\u03A8': 'Psi',\n",
    "    u'\\u03A9': 'Omega',\n",
    "    u'\\u03B1': 'alpha',\n",
    "    u'\\u03B2': 'beta',\n",
    "    u'\\u03B3': 'gamma',\n",
    "    u'\\u03B4': 'delta',\n",
    "    u'\\u03B5': 'epsilon',\n",
    "    u'\\u03B6': 'zeta',\n",
    "    u'\\u03B7': 'eta',\n",
    "    u'\\u03B8': 'theta',\n",
    "    u'\\u03B9': 'iota',\n",
    "    u'\\u03BA': 'kappa',\n",
    "    u'\\u03BB': 'lamda',\n",
    "    u'\\u03BC': 'mu',\n",
    "    u'\\u03BD': 'nu',\n",
    "    u'\\u03BE': 'xi',\n",
    "    u'\\u03BF': 'omicron',\n",
    "    u'\\u03C0': 'pi',\n",
    "    u'\\u03C1': 'rho',\n",
    "    u'\\u03C3': 'sigma',\n",
    "    u'\\u03C4': 'tau',\n",
    "    u'\\u03C5': 'upsilon',\n",
    "    u'\\u03C6': 'phi',\n",
    "    u'\\u03C7': 'chi',\n",
    "    u'\\u03C8': 'psi',\n",
    "    u'\\u03C9': 'omega',\n",
    "}\n",
    "greece_reverse = dict(map(reversed, greek_alphabet.items()))\n",
    "\n",
    "greece_list = list(greek_alphabet.values())"
   ]
  },
  {
   "cell_type": "code",
   "execution_count": 11,
   "metadata": {
    "ExecuteTime": {
     "end_time": "2019-08-13T01:22:12.404324Z",
     "start_time": "2019-08-13T01:22:12.399756Z"
    },
    "run_control": {
     "marked": true
    }
   },
   "outputs": [],
   "source": [
    "#Pre-processing for lines between stars. 星座连线预处理\n",
    "\n",
    "t_line_const = t_lines[t_lines['constellation']==constname]\n",
    "ra_line = t_line_const['ra'][0].split('[')[1].split(']')[0].split(',')\n",
    "dec_line = t_line_const['dec'][0].split('[')[1].split(']')[0].split(',')\n",
    "npair = int(t_line_const['num_pairs'])\n",
    "plt_ra = [[float(ra_line[2*i])*15,\n",
    "                 float(ra_line[2*i+1])*15] for i in range(npair)]\n",
    "plt_dec = [[float(dec_line[2*i]),\n",
    "            float(dec_line[2*i+1])] for i in range(npair)]"
   ]
  },
  {
   "cell_type": "code",
   "execution_count": 12,
   "metadata": {
    "ExecuteTime": {
     "end_time": "2019-08-13T01:22:12.435158Z",
     "start_time": "2019-08-13T01:22:12.405705Z"
    }
   },
   "outputs": [
    {
     "name": "stdout",
     "output_type": "stream",
     "text": [
      "optimizing parameters of Albers to minimize stdDistortion\n",
      "best objective 0.018147 at Albers(72.79009703823273,55.170380754027654,43.8938940499382,68.86842412260715)\n",
      "72.79009703823273 168.01437499999997\n"
     ]
    }
   ],
   "source": [
    "#Setting the plot area and title 设定绘画范围和标题\n",
    "\n",
    "crit = skm.stdDistortion\n",
    "proj = skm.Albers.optimize(ra,dec,crit=crit)\n",
    "\n",
    "print(proj.lon_0,ra_mid)\n",
    "proj.lon_0=ra_mid\n",
    "title_ra = proj.lon_0\n",
    "title_dec1 = (proj.lat_1+(proj.lat_2-proj.lat_1)*1.0)\n",
    "title_dec2 = (proj.lat_1+(proj.lat_2-proj.lat_1)*0.9)\n",
    "title_string1 =constfullnameCN\n",
    "title_string2 ='知乎@凌晨晓骥'"
   ]
  },
  {
   "cell_type": "code",
   "execution_count": 13,
   "metadata": {
    "ExecuteTime": {
     "end_time": "2019-08-13T01:22:12.471681Z",
     "start_time": "2019-08-13T01:22:12.436318Z"
    }
   },
   "outputs": [
    {
     "name": "stdout",
     "output_type": "stream",
     "text": [
      "Using matplotlib backend: Qt5Agg\n"
     ]
    }
   ],
   "source": [
    "%matplotlib auto"
   ]
  },
  {
   "cell_type": "code",
   "execution_count": 14,
   "metadata": {
    "ExecuteTime": {
     "end_time": "2019-08-13T01:22:13.908697Z",
     "start_time": "2019-08-13T01:22:12.472953Z"
    },
    "code_folding": [
     29
    ],
    "run_control": {
     "marked": false
    },
    "scrolled": false
   },
   "outputs": [
    {
     "name": "stderr",
     "output_type": "stream",
     "text": [
      "/home/jl/anaconda3/envs/astroconda/lib/python3.6/site-packages/matplotlib/collections.py:857: RuntimeWarning: invalid value encountered in sqrt\n",
      "  scale = np.sqrt(self._sizes) * dpi / 72.0 * self._factor\n",
      "/home/jl/anaconda3/envs/astroconda/lib/python3.6/site-packages/skymapper/map.py:688: UserWarning: Tight layout not applied. The left and right margins cannot be made large enough to accommodate all axes decorations. \n",
      "  self.fig.tight_layout(pad=0.75)\n",
      "/home/jl/anaconda3/envs/astroconda/lib/python3.6/site-packages/skymapper/map.py:810: UserWarning: Tight layout not applied. The left and right margins cannot be made large enough to accommodate all axes decorations. \n",
      "  self.fig.tight_layout(pad=0.75)\n"
     ]
    },
    {
     "data": {
      "text/plain": [
       "Text(-0.0, 0.19966033816878193, '知乎@凌晨晓骥')"
      ]
     },
     "execution_count": 14,
     "metadata": {},
     "output_type": "execute_result"
    }
   ],
   "source": [
    "#Plot the graph!   画图 !\n",
    "\n",
    "plt.rcParams['font.sans-serif']=['SimHei'] #用来正常显示中文标签\n",
    "plt.rcParams['axes.unicode_minus']=False\n",
    "\n",
    "mapx = skm.Map(proj, facecolor='black')\n",
    "sep = 5\n",
    "mapx.grid(sep=sep, c='white', lw=0.5, alpha=0.3)\n",
    "mapx.scatter(ra_others, dec_others, s=(17-t_others['mag'])**5/8e5, c='white')\n",
    "mapx.scatter(ra,\n",
    "             dec,\n",
    "             s=(10 - t_const['Vmag'])**5 / 5e2,\n",
    "             c=color,\n",
    "             edgecolor=color,\n",
    "             facecolor='white')\n",
    "mapx.scatter(ra,\n",
    "             dec,\n",
    "             s=(10 - t_const['Vmag'])**5 / 6e2,\n",
    "             alpha=0.9,\n",
    "             c='white',\n",
    "             edgecolor=color,\n",
    "             facecolor='white')\n",
    "mapx.focus(ra, dec)\n",
    "\n",
    "dec_range = np.max(dec)-np.min(dec)\n",
    "\n",
    "for i in enumerate(t_const['Name']):\n",
    "    namex = i[1].decode('UTF-8').split(constname)[0]\n",
    "    ss = [''.join(g) for _, g in groupby(namex, str.isalpha)]\n",
    "    res = [i for i in ss if i.isalpha()]\n",
    "    #print(res)\n",
    "    if len(res):\n",
    "        namey = res[0].lower()\n",
    "        diflib = difflib.get_close_matches(namey, greece_list)\n",
    "        for j in diflib:\n",
    "            if j[0:2]==namey[0:2]:\n",
    "                namez = j\n",
    "        difflib.get_close_matches(namey, greece_list)[0]\n",
    "        namezx = greece_reverse[namez]\n",
    "        cn_add = ''\n",
    "        if len(ss) > 2:\n",
    "            if ss[2].strip() != '':\n",
    "                cn_add= ss[2].strip()\n",
    "                namezx = r'$' + namezx.strip() + '^{' + ss[2].strip() + '}$'\n",
    "        else:\n",
    "            namezx = r'$' +namezx.strip() + '$'\n",
    "        if namez in gre_name:\n",
    "            gre_index = gre_name.index(namez)\n",
    "            mapx.text(ra[i[0]],\n",
    "                  dec[i[0]] - dec_range/50,\n",
    "                  cn_name[gre_index]+cn_add,\n",
    "                  c='yellow',\n",
    "                  fontsize=10,\n",
    "                  ha='center',\n",
    "                  va='center')    \n",
    "        \n",
    "        mapx.text(ra[i[0]],\n",
    "                  dec[i[0]] + dec_range/50,\n",
    "                  namezx,\n",
    "                  c='lime',\n",
    "                  fontsize=15,\n",
    "                  ha='center',\n",
    "                  va='center')\n",
    "   \n",
    "for i in range(len(ra_num)):\n",
    "    mapx.text(ra_num[i],\n",
    "              dec_num[i] - dec_range/50,\n",
    "              name_num[i],\n",
    "              c='yellow',\n",
    "              fontsize=10,\n",
    "              ha='center',\n",
    "              va='center')\n",
    "for i in range(npair):\n",
    "    mapx.plot(np.asarray(plt_ra[i]),\n",
    "              np.asarray(plt_dec[i]),\n",
    "              color='white',\n",
    "              alpha=0.5,\n",
    "              lw=0.5)\n",
    "if len(ra_Speical):\n",
    "    mapx.scatter(np.asarray(ra_Speical),np.asarray(dec_Speical),\n",
    "                 marker='o',c='',edgecolor='cyan',s=40,lw=0.5)\n",
    "for i in range(len(ra_Speical)):\n",
    "    mapx.text(ra_Speical[i],\n",
    "              dec_Speical[i] + dec_range/100.0,\n",
    "              name_Speical[i]\n",
    "              ,fontsize=10,c='cyan',ha='center',va='center')\n",
    "if len(ra_NGC):\n",
    "    mapx.scatter(np.asarray(ra_NGC),np.asarray(dec_NGC),\n",
    "                 marker='o',c='',edgecolor='magenta',s=5,lw=0.5,alpha=0.5)\n",
    "\n",
    "mapx.text(title_ra,title_dec1,title_string1,\n",
    "          c='white',fontsize=30,alpha = 0.5,ha='center',va='center')\n",
    "mapx.text(title_ra,title_dec2,title_string2,\n",
    "          c='white',fontsize=20,alpha = 0.4,ha='center',va='center')\n",
    "\n",
    "#if you want to show NGC/IC names, just uncomment the lines below.\n",
    "# for i in range(len(ra_NGC)):\n",
    "#     #print(i,name_NGC[i])\n",
    "#     mapx.text(ra_NGC[i],\n",
    "#               dec_NGC[i] + dec_range/100.0,\n",
    "#               name_NGC[i]\n",
    "#               ,fontsize=10,c='magenta',ha='center',va='center')"
   ]
  },
  {
   "cell_type": "code",
   "execution_count": null,
   "metadata": {},
   "outputs": [],
   "source": []
  }
 ],
 "metadata": {
  "kernelspec": {
   "display_name": "Python 3",
   "language": "python",
   "name": "python3"
  },
  "language_info": {
   "codemirror_mode": {
    "name": "ipython",
    "version": 3
   },
   "file_extension": ".py",
   "mimetype": "text/x-python",
   "name": "python",
   "nbconvert_exporter": "python",
   "pygments_lexer": "ipython3",
   "version": "3.6.7"
  },
  "latex_envs": {
   "LaTeX_envs_menu_present": true,
   "autoclose": false,
   "autocomplete": true,
   "bibliofile": "biblio.bib",
   "cite_by": "apalike",
   "current_citInitial": 1,
   "eqLabelWithNumbers": true,
   "eqNumInitial": 1,
   "hotkeys": {
    "equation": "Ctrl-E",
    "itemize": "Ctrl-I"
   },
   "labels_anchors": false,
   "latex_user_defs": false,
   "report_style_numbering": false,
   "user_envs_cfg": false
  },
  "nbTranslate": {
   "displayLangs": [
    "*"
   ],
   "hotkey": "alt-t",
   "langInMainMenu": true,
   "sourceLang": "en",
   "targetLang": "fr",
   "useGoogleTranslate": true
  },
  "toc": {
   "base_numbering": 1,
   "nav_menu": {},
   "number_sections": true,
   "sideBar": true,
   "skip_h1_title": false,
   "title_cell": "Table of Contents",
   "title_sidebar": "Contents",
   "toc_cell": false,
   "toc_position": {},
   "toc_section_display": true,
   "toc_window_display": false
  },
  "varInspector": {
   "cols": {
    "lenName": 16,
    "lenType": 16,
    "lenVar": 40
   },
   "kernels_config": {
    "python": {
     "delete_cmd_postfix": "",
     "delete_cmd_prefix": "del ",
     "library": "var_list.py",
     "varRefreshCmd": "print(var_dic_list())"
    },
    "r": {
     "delete_cmd_postfix": ") ",
     "delete_cmd_prefix": "rm(",
     "library": "var_list.r",
     "varRefreshCmd": "cat(var_dic_list()) "
    }
   },
   "types_to_exclude": [
    "module",
    "function",
    "builtin_function_or_method",
    "instance",
    "_Feature"
   ],
   "window_display": false
  }
 },
 "nbformat": 4,
 "nbformat_minor": 2
}
